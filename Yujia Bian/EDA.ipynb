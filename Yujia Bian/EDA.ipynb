{
 "cells": [
  {
   "cell_type": "markdown",
   "id": "337696f7",
   "metadata": {},
   "source": [
    "# 1. Overview"
   ]
  },
  {
   "cell_type": "code",
   "execution_count": 1,
   "id": "901a9f82",
   "metadata": {},
   "outputs": [],
   "source": [
    "import pandas as pd\n",
    "\n",
    "pd.set_option('display.max_columns', None)"
   ]
  },
  {
   "cell_type": "code",
   "execution_count": 2,
   "id": "d9b87755",
   "metadata": {},
   "outputs": [
    {
     "data": {
      "text/html": [
       "<div>\n",
       "<style scoped>\n",
       "    .dataframe tbody tr th:only-of-type {\n",
       "        vertical-align: middle;\n",
       "    }\n",
       "\n",
       "    .dataframe tbody tr th {\n",
       "        vertical-align: top;\n",
       "    }\n",
       "\n",
       "    .dataframe thead th {\n",
       "        text-align: right;\n",
       "    }\n",
       "</style>\n",
       "<table border=\"1\" class=\"dataframe\">\n",
       "  <thead>\n",
       "    <tr style=\"text-align: right;\">\n",
       "      <th></th>\n",
       "      <th>BOROUGH</th>\n",
       "      <th>ADDRESS</th>\n",
       "      <th>ZIP CODE</th>\n",
       "      <th>GROSS SQUARE FEET</th>\n",
       "      <th>YEAR BUILT</th>\n",
       "      <th>SALE PRICE</th>\n",
       "      <th>SALE DATE</th>\n",
       "      <th>Latitude</th>\n",
       "      <th>Longitude</th>\n",
       "      <th>Clean Address</th>\n",
       "      <th>Match</th>\n",
       "    </tr>\n",
       "  </thead>\n",
       "  <tbody>\n",
       "    <tr>\n",
       "      <th>0</th>\n",
       "      <td>2</td>\n",
       "      <td>1667 WASHINGTON AVENUE</td>\n",
       "      <td>10457.0</td>\n",
       "      <td>3167.0</td>\n",
       "      <td>1899.0</td>\n",
       "      <td>980000</td>\n",
       "      <td>44812</td>\n",
       "      <td>40.841270</td>\n",
       "      <td>-73.901313</td>\n",
       "      <td>1667 WASHINGTON AVENUE</td>\n",
       "      <td>0</td>\n",
       "    </tr>\n",
       "    <tr>\n",
       "      <th>1</th>\n",
       "      <td>2</td>\n",
       "      <td>410 EAST 179TH STREET</td>\n",
       "      <td>10457.0</td>\n",
       "      <td>2048.0</td>\n",
       "      <td>1901.0</td>\n",
       "      <td>655000</td>\n",
       "      <td>44866</td>\n",
       "      <td>40.850353</td>\n",
       "      <td>-73.898824</td>\n",
       "      <td>410 EAST 179TH STREET</td>\n",
       "      <td>0</td>\n",
       "    </tr>\n",
       "    <tr>\n",
       "      <th>2</th>\n",
       "      <td>2</td>\n",
       "      <td>4455 PARK AVENUE</td>\n",
       "      <td>10457.0</td>\n",
       "      <td>1587.0</td>\n",
       "      <td>1899.0</td>\n",
       "      <td>520000</td>\n",
       "      <td>44860</td>\n",
       "      <td>40.853630</td>\n",
       "      <td>-73.895963</td>\n",
       "      <td>4455 PARK AVENUE</td>\n",
       "      <td>0</td>\n",
       "    </tr>\n",
       "    <tr>\n",
       "      <th>3</th>\n",
       "      <td>2</td>\n",
       "      <td>443 EAST 180 STREET</td>\n",
       "      <td>10457.0</td>\n",
       "      <td>2820.0</td>\n",
       "      <td>1952.0</td>\n",
       "      <td>720000</td>\n",
       "      <td>44615</td>\n",
       "      <td>40.851764</td>\n",
       "      <td>-73.896429</td>\n",
       "      <td>443 EAST 180 STREET</td>\n",
       "      <td>0</td>\n",
       "    </tr>\n",
       "    <tr>\n",
       "      <th>4</th>\n",
       "      <td>2</td>\n",
       "      <td>2327 WASHINGTON AVE</td>\n",
       "      <td>10458.0</td>\n",
       "      <td>1260.0</td>\n",
       "      <td>1910.0</td>\n",
       "      <td>499999</td>\n",
       "      <td>44679</td>\n",
       "      <td>40.855949</td>\n",
       "      <td>-73.892532</td>\n",
       "      <td>2327 WASHINGTON AVE</td>\n",
       "      <td>0</td>\n",
       "    </tr>\n",
       "  </tbody>\n",
       "</table>\n",
       "</div>"
      ],
      "text/plain": [
       "   BOROUGH                 ADDRESS  ZIP CODE  GROSS SQUARE FEET  YEAR BUILT  \\\n",
       "0        2  1667 WASHINGTON AVENUE   10457.0             3167.0      1899.0   \n",
       "1        2   410 EAST 179TH STREET   10457.0             2048.0      1901.0   \n",
       "2        2        4455 PARK AVENUE   10457.0             1587.0      1899.0   \n",
       "3        2     443 EAST 180 STREET   10457.0             2820.0      1952.0   \n",
       "4        2     2327 WASHINGTON AVE   10458.0             1260.0      1910.0   \n",
       "\n",
       "   SALE PRICE  SALE DATE   Latitude  Longitude           Clean Address  Match  \n",
       "0      980000      44812  40.841270 -73.901313  1667 WASHINGTON AVENUE      0  \n",
       "1      655000      44866  40.850353 -73.898824   410 EAST 179TH STREET      0  \n",
       "2      520000      44860  40.853630 -73.895963        4455 PARK AVENUE      0  \n",
       "3      720000      44615  40.851764 -73.896429     443 EAST 180 STREET      0  \n",
       "4      499999      44679  40.855949 -73.892532     2327 WASHINGTON AVE      0  "
      ]
     },
     "execution_count": 2,
     "metadata": {},
     "output_type": "execute_result"
    }
   ],
   "source": [
    "df = pd.read_csv('csv/sold.csv')\n",
    "df.head()"
   ]
  },
  {
   "cell_type": "markdown",
   "id": "239dfbef",
   "metadata": {},
   "source": [
    "* SALE DATE is not in the right format. We will convert it to year-month-day."
   ]
  },
  {
   "cell_type": "code",
   "execution_count": 3,
   "id": "63c631fd",
   "metadata": {},
   "outputs": [],
   "source": [
    "df['SALE DATE'] = pd.to_datetime(df['SALE DATE'], unit='D', origin='1900-01-01')"
   ]
  },
  {
   "cell_type": "code",
   "execution_count": 4,
   "id": "d62345ec",
   "metadata": {},
   "outputs": [
    {
     "data": {
      "text/html": [
       "<div>\n",
       "<style scoped>\n",
       "    .dataframe tbody tr th:only-of-type {\n",
       "        vertical-align: middle;\n",
       "    }\n",
       "\n",
       "    .dataframe tbody tr th {\n",
       "        vertical-align: top;\n",
       "    }\n",
       "\n",
       "    .dataframe thead th {\n",
       "        text-align: right;\n",
       "    }\n",
       "</style>\n",
       "<table border=\"1\" class=\"dataframe\">\n",
       "  <thead>\n",
       "    <tr style=\"text-align: right;\">\n",
       "      <th></th>\n",
       "      <th>BOROUGH</th>\n",
       "      <th>ADDRESS</th>\n",
       "      <th>ZIP CODE</th>\n",
       "      <th>GROSS SQUARE FEET</th>\n",
       "      <th>YEAR BUILT</th>\n",
       "      <th>SALE PRICE</th>\n",
       "      <th>SALE DATE</th>\n",
       "      <th>Latitude</th>\n",
       "      <th>Longitude</th>\n",
       "      <th>Clean Address</th>\n",
       "      <th>Match</th>\n",
       "    </tr>\n",
       "  </thead>\n",
       "  <tbody>\n",
       "    <tr>\n",
       "      <th>0</th>\n",
       "      <td>2</td>\n",
       "      <td>1667 WASHINGTON AVENUE</td>\n",
       "      <td>10457.0</td>\n",
       "      <td>3167.0</td>\n",
       "      <td>1899.0</td>\n",
       "      <td>980000</td>\n",
       "      <td>2022-09-10</td>\n",
       "      <td>40.841270</td>\n",
       "      <td>-73.901313</td>\n",
       "      <td>1667 WASHINGTON AVENUE</td>\n",
       "      <td>0</td>\n",
       "    </tr>\n",
       "    <tr>\n",
       "      <th>1</th>\n",
       "      <td>2</td>\n",
       "      <td>410 EAST 179TH STREET</td>\n",
       "      <td>10457.0</td>\n",
       "      <td>2048.0</td>\n",
       "      <td>1901.0</td>\n",
       "      <td>655000</td>\n",
       "      <td>2022-11-03</td>\n",
       "      <td>40.850353</td>\n",
       "      <td>-73.898824</td>\n",
       "      <td>410 EAST 179TH STREET</td>\n",
       "      <td>0</td>\n",
       "    </tr>\n",
       "    <tr>\n",
       "      <th>2</th>\n",
       "      <td>2</td>\n",
       "      <td>4455 PARK AVENUE</td>\n",
       "      <td>10457.0</td>\n",
       "      <td>1587.0</td>\n",
       "      <td>1899.0</td>\n",
       "      <td>520000</td>\n",
       "      <td>2022-10-28</td>\n",
       "      <td>40.853630</td>\n",
       "      <td>-73.895963</td>\n",
       "      <td>4455 PARK AVENUE</td>\n",
       "      <td>0</td>\n",
       "    </tr>\n",
       "    <tr>\n",
       "      <th>3</th>\n",
       "      <td>2</td>\n",
       "      <td>443 EAST 180 STREET</td>\n",
       "      <td>10457.0</td>\n",
       "      <td>2820.0</td>\n",
       "      <td>1952.0</td>\n",
       "      <td>720000</td>\n",
       "      <td>2022-02-25</td>\n",
       "      <td>40.851764</td>\n",
       "      <td>-73.896429</td>\n",
       "      <td>443 EAST 180 STREET</td>\n",
       "      <td>0</td>\n",
       "    </tr>\n",
       "    <tr>\n",
       "      <th>4</th>\n",
       "      <td>2</td>\n",
       "      <td>2327 WASHINGTON AVE</td>\n",
       "      <td>10458.0</td>\n",
       "      <td>1260.0</td>\n",
       "      <td>1910.0</td>\n",
       "      <td>499999</td>\n",
       "      <td>2022-04-30</td>\n",
       "      <td>40.855949</td>\n",
       "      <td>-73.892532</td>\n",
       "      <td>2327 WASHINGTON AVE</td>\n",
       "      <td>0</td>\n",
       "    </tr>\n",
       "  </tbody>\n",
       "</table>\n",
       "</div>"
      ],
      "text/plain": [
       "   BOROUGH                 ADDRESS  ZIP CODE  GROSS SQUARE FEET  YEAR BUILT  \\\n",
       "0        2  1667 WASHINGTON AVENUE   10457.0             3167.0      1899.0   \n",
       "1        2   410 EAST 179TH STREET   10457.0             2048.0      1901.0   \n",
       "2        2        4455 PARK AVENUE   10457.0             1587.0      1899.0   \n",
       "3        2     443 EAST 180 STREET   10457.0             2820.0      1952.0   \n",
       "4        2     2327 WASHINGTON AVE   10458.0             1260.0      1910.0   \n",
       "\n",
       "   SALE PRICE  SALE DATE   Latitude  Longitude           Clean Address  Match  \n",
       "0      980000 2022-09-10  40.841270 -73.901313  1667 WASHINGTON AVENUE      0  \n",
       "1      655000 2022-11-03  40.850353 -73.898824   410 EAST 179TH STREET      0  \n",
       "2      520000 2022-10-28  40.853630 -73.895963        4455 PARK AVENUE      0  \n",
       "3      720000 2022-02-25  40.851764 -73.896429     443 EAST 180 STREET      0  \n",
       "4      499999 2022-04-30  40.855949 -73.892532     2327 WASHINGTON AVE      0  "
      ]
     },
     "execution_count": 4,
     "metadata": {},
     "output_type": "execute_result"
    }
   ],
   "source": [
    "df.head()"
   ]
  },
  {
   "cell_type": "code",
   "execution_count": 5,
   "id": "01a87853",
   "metadata": {},
   "outputs": [
    {
     "name": "stdout",
     "output_type": "stream",
     "text": [
      "<class 'pandas.core.frame.DataFrame'>\n",
      "RangeIndex: 92208 entries, 0 to 92207\n",
      "Data columns (total 11 columns):\n",
      " #   Column             Non-Null Count  Dtype         \n",
      "---  ------             --------------  -----         \n",
      " 0   BOROUGH            92208 non-null  int64         \n",
      " 1   ADDRESS            92208 non-null  object        \n",
      " 2   ZIP CODE           92208 non-null  float64       \n",
      " 3   GROSS SQUARE FEET  48612 non-null  float64       \n",
      " 4   YEAR BUILT         86939 non-null  float64       \n",
      " 5   SALE PRICE         92208 non-null  int64         \n",
      " 6   SALE DATE          92208 non-null  datetime64[ns]\n",
      " 7   Latitude           90981 non-null  float64       \n",
      " 8   Longitude          90981 non-null  float64       \n",
      " 9   Clean Address      92208 non-null  object        \n",
      " 10  Match              92208 non-null  int64         \n",
      "dtypes: datetime64[ns](1), float64(5), int64(3), object(2)\n",
      "memory usage: 7.7+ MB\n"
     ]
    }
   ],
   "source": [
    "df.info()"
   ]
  },
  {
   "cell_type": "markdown",
   "id": "7f56b15f",
   "metadata": {},
   "source": [
    "* BOROUGH, ADDRESS, ZIP CODE, SALE PRICE, SALE DATE, Clean Addreess and Match have no null values.\n",
    "* GROSS SQUARE FEET, YEAR BUILT, Latitude and Longitude have considerable null values."
   ]
  },
  {
   "cell_type": "markdown",
   "id": "bbddddf6",
   "metadata": {},
   "source": [
    "# 2. Distribution"
   ]
  },
  {
   "cell_type": "code",
   "execution_count": 6,
   "id": "f59bf5ff",
   "metadata": {},
   "outputs": [],
   "source": [
    "import numpy as np\n",
    "import matplotlib.pyplot as plt"
   ]
  },
  {
   "cell_type": "code",
   "execution_count": 7,
   "id": "306024fb",
   "metadata": {},
   "outputs": [
    {
     "data": {
      "text/html": [
       "<div>\n",
       "<style scoped>\n",
       "    .dataframe tbody tr th:only-of-type {\n",
       "        vertical-align: middle;\n",
       "    }\n",
       "\n",
       "    .dataframe tbody tr th {\n",
       "        vertical-align: top;\n",
       "    }\n",
       "\n",
       "    .dataframe thead th {\n",
       "        text-align: right;\n",
       "    }\n",
       "</style>\n",
       "<table border=\"1\" class=\"dataframe\">\n",
       "  <thead>\n",
       "    <tr style=\"text-align: right;\">\n",
       "      <th></th>\n",
       "      <th>BOROUGH</th>\n",
       "      <th>ZIP CODE</th>\n",
       "      <th>GROSS SQUARE FEET</th>\n",
       "      <th>YEAR BUILT</th>\n",
       "      <th>SALE PRICE</th>\n",
       "      <th>Latitude</th>\n",
       "      <th>Longitude</th>\n",
       "      <th>Match</th>\n",
       "    </tr>\n",
       "  </thead>\n",
       "  <tbody>\n",
       "    <tr>\n",
       "      <th>count</th>\n",
       "      <td>92208.000000</td>\n",
       "      <td>92208.000000</td>\n",
       "      <td>4.861200e+04</td>\n",
       "      <td>86939.000000</td>\n",
       "      <td>9.220800e+04</td>\n",
       "      <td>90981.000000</td>\n",
       "      <td>90981.000000</td>\n",
       "      <td>92208.000000</td>\n",
       "    </tr>\n",
       "    <tr>\n",
       "      <th>mean</th>\n",
       "      <td>2.934648</td>\n",
       "      <td>10844.646213</td>\n",
       "      <td>5.921191e+03</td>\n",
       "      <td>1953.309079</td>\n",
       "      <td>1.671285e+06</td>\n",
       "      <td>40.709929</td>\n",
       "      <td>-73.932170</td>\n",
       "      <td>0.226770</td>\n",
       "    </tr>\n",
       "    <tr>\n",
       "      <th>std</th>\n",
       "      <td>1.295037</td>\n",
       "      <td>567.595769</td>\n",
       "      <td>3.806339e+04</td>\n",
       "      <td>36.879589</td>\n",
       "      <td>1.288970e+07</td>\n",
       "      <td>0.077896</td>\n",
       "      <td>0.099971</td>\n",
       "      <td>0.419133</td>\n",
       "    </tr>\n",
       "    <tr>\n",
       "      <th>min</th>\n",
       "      <td>1.000000</td>\n",
       "      <td>10001.000000</td>\n",
       "      <td>0.000000e+00</td>\n",
       "      <td>220.000000</td>\n",
       "      <td>0.000000e+00</td>\n",
       "      <td>40.498966</td>\n",
       "      <td>-74.254937</td>\n",
       "      <td>0.000000</td>\n",
       "    </tr>\n",
       "    <tr>\n",
       "      <th>25%</th>\n",
       "      <td>2.000000</td>\n",
       "      <td>10304.000000</td>\n",
       "      <td>1.406000e+03</td>\n",
       "      <td>1925.000000</td>\n",
       "      <td>0.000000e+00</td>\n",
       "      <td>40.655213</td>\n",
       "      <td>-73.985214</td>\n",
       "      <td>0.000000</td>\n",
       "    </tr>\n",
       "    <tr>\n",
       "      <th>50%</th>\n",
       "      <td>3.000000</td>\n",
       "      <td>11209.000000</td>\n",
       "      <td>2.000000e+03</td>\n",
       "      <td>1950.000000</td>\n",
       "      <td>5.920000e+05</td>\n",
       "      <td>40.717173</td>\n",
       "      <td>-73.948423</td>\n",
       "      <td>0.000000</td>\n",
       "    </tr>\n",
       "    <tr>\n",
       "      <th>75%</th>\n",
       "      <td>4.000000</td>\n",
       "      <td>11355.000000</td>\n",
       "      <td>2.888000e+03</td>\n",
       "      <td>1979.000000</td>\n",
       "      <td>1.100000e+06</td>\n",
       "      <td>40.761304</td>\n",
       "      <td>-73.858638</td>\n",
       "      <td>0.000000</td>\n",
       "    </tr>\n",
       "    <tr>\n",
       "      <th>max</th>\n",
       "      <td>5.000000</td>\n",
       "      <td>11697.000000</td>\n",
       "      <td>2.400000e+06</td>\n",
       "      <td>2022.000000</td>\n",
       "      <td>9.310000e+08</td>\n",
       "      <td>40.912869</td>\n",
       "      <td>-73.700913</td>\n",
       "      <td>2.000000</td>\n",
       "    </tr>\n",
       "  </tbody>\n",
       "</table>\n",
       "</div>"
      ],
      "text/plain": [
       "            BOROUGH      ZIP CODE  GROSS SQUARE FEET    YEAR BUILT  \\\n",
       "count  92208.000000  92208.000000       4.861200e+04  86939.000000   \n",
       "mean       2.934648  10844.646213       5.921191e+03   1953.309079   \n",
       "std        1.295037    567.595769       3.806339e+04     36.879589   \n",
       "min        1.000000  10001.000000       0.000000e+00    220.000000   \n",
       "25%        2.000000  10304.000000       1.406000e+03   1925.000000   \n",
       "50%        3.000000  11209.000000       2.000000e+03   1950.000000   \n",
       "75%        4.000000  11355.000000       2.888000e+03   1979.000000   \n",
       "max        5.000000  11697.000000       2.400000e+06   2022.000000   \n",
       "\n",
       "         SALE PRICE      Latitude     Longitude         Match  \n",
       "count  9.220800e+04  90981.000000  90981.000000  92208.000000  \n",
       "mean   1.671285e+06     40.709929    -73.932170      0.226770  \n",
       "std    1.288970e+07      0.077896      0.099971      0.419133  \n",
       "min    0.000000e+00     40.498966    -74.254937      0.000000  \n",
       "25%    0.000000e+00     40.655213    -73.985214      0.000000  \n",
       "50%    5.920000e+05     40.717173    -73.948423      0.000000  \n",
       "75%    1.100000e+06     40.761304    -73.858638      0.000000  \n",
       "max    9.310000e+08     40.912869    -73.700913      2.000000  "
      ]
     },
     "execution_count": 7,
     "metadata": {},
     "output_type": "execute_result"
    }
   ],
   "source": [
    "df.describe()"
   ]
  },
  {
   "cell_type": "markdown",
   "id": "2625ea2a",
   "metadata": {},
   "source": [
    "* GROSS SQUARE FEET, YEAR BUILT, SALE PRICE have outliers."
   ]
  },
  {
   "cell_type": "markdown",
   "id": "2ea84ec8",
   "metadata": {},
   "source": [
    "## 2.1 BOROUGH"
   ]
  },
  {
   "cell_type": "code",
   "execution_count": 8,
   "id": "217cb96b",
   "metadata": {
    "scrolled": true
   },
   "outputs": [
    {
     "data": {
      "text/plain": [
       "38.97644682095316"
      ]
     },
     "execution_count": 8,
     "metadata": {},
     "output_type": "execute_result"
    }
   ],
   "source": [
    "1 + 3.322 * np.log(92208)"
   ]
  },
  {
   "cell_type": "code",
   "execution_count": 9,
   "id": "7b4cc5a3",
   "metadata": {},
   "outputs": [
    {
     "data": {
      "text/plain": [
       "Text(0.5, 0, 'Borough')"
      ]
     },
     "execution_count": 9,
     "metadata": {},
     "output_type": "execute_result"
    },
    {
     "data": {
      "image/png": "[encoded data removed]",
      "text/plain": [
       "<Figure size 432x288 with 1 Axes>"
      ]
     },
     "metadata": {
      "needs_background": "light"
     },
     "output_type": "display_data"
    }
   ],
   "source": [
    "df['BOROUGH'].plot(kind='hist', bins=39, title=\"Histogram of Borough\")  \n",
    "plt.xlabel('Borough')"
   ]
  },
  {
   "cell_type": "markdown",
   "id": "9890723b",
   "metadata": {},
   "source": [
    "## 2.2 ZIP CODE"
   ]
  },
  {
   "cell_type": "code",
   "execution_count": 10,
   "id": "e4e33517",
   "metadata": {},
   "outputs": [
    {
     "data": {
      "text/plain": [
       "Text(0.5, 0, 'Zip Code')"
      ]
     },
     "execution_count": 10,
     "metadata": {},
     "output_type": "execute_result"
    },
    {
     "data": {
      "image/png": "[encoded data removed]",
      "text/plain": [
       "<Figure size 432x288 with 1 Axes>"
      ]
     },
     "metadata": {
      "needs_background": "light"
     },
     "output_type": "display_data"
    }
   ],
   "source": [
    "df['ZIP CODE'].plot(kind='hist', bins=39, title=\"Histogram of Zip Code\")  \n",
    "plt.xlabel('Zip Code')"
   ]
  },
  {
   "cell_type": "code",
   "execution_count": 11,
   "id": "89b98d58",
   "metadata": {},
   "outputs": [
    {
     "data": {
      "text/plain": [
       "<AxesSubplot:ylabel='Frequency'>"
      ]
     },
     "execution_count": 11,
     "metadata": {},
     "output_type": "execute_result"
    },
    {
     "data": {
      "image/png": "[encoded data removed]",
      "text/plain": [
       "<Figure size 432x288 with 1 Axes>"
      ]
     },
     "metadata": {
      "needs_background": "light"
     },
     "output_type": "display_data"
    }
   ],
   "source": [
    "df['ZIP CODE'].map(np.log).plot(kind='hist', bins=39)"
   ]
  },
  {
   "cell_type": "markdown",
   "id": "132d89fb",
   "metadata": {},
   "source": [
    "## 2.3 GROSS SQUARE FEET"
   ]
  },
  {
   "cell_type": "code",
   "execution_count": 12,
   "id": "aa41478f",
   "metadata": {},
   "outputs": [
    {
     "data": {
      "text/plain": [
       "36.84978055211507"
      ]
     },
     "execution_count": 12,
     "metadata": {},
     "output_type": "execute_result"
    }
   ],
   "source": [
    "1 + 3.322 * np.log(48612)"
   ]
  },
  {
   "cell_type": "code",
   "execution_count": 13,
   "id": "c5c45f3b",
   "metadata": {},
   "outputs": [
    {
     "data": {
      "text/plain": [
       "Text(0.5, 0, 'Gross Square Feet')"
      ]
     },
     "execution_count": 13,
     "metadata": {},
     "output_type": "execute_result"
    },
    {
     "data": {
      "image/png": "[encoded data removed]",
      "text/plain": [
       "<Figure size 432x288 with 1 Axes>"
      ]
     },
     "metadata": {
      "needs_background": "light"
     },
     "output_type": "display_data"
    }
   ],
   "source": [
    "df['GROSS SQUARE FEET'].plot(kind='hist', bins=37, title=\"Histogram of Gross Square Feet\")  \n",
    "plt.xlabel('Gross Square Feet')"
   ]
  },
  {
   "cell_type": "code",
   "execution_count": 14,
   "id": "ab907e9b",
   "metadata": {},
   "outputs": [
    {
     "data": {
      "text/plain": [
       "1080"
      ]
     },
     "execution_count": 14,
     "metadata": {},
     "output_type": "execute_result"
    }
   ],
   "source": [
    "(df['GROSS SQUARE FEET'] == 0).sum()"
   ]
  },
  {
   "cell_type": "markdown",
   "id": "e053cbbe",
   "metadata": {},
   "source": [
    "* GROSS SQUARE FEET has some 0s, so we delete the 0s and make the log plot.\n",
    "* GROSS SQUARE FEET may have some outliers. We will need to deal with them later."
   ]
  },
  {
   "cell_type": "code",
   "execution_count": 15,
   "id": "d6499ced",
   "metadata": {
    "scrolled": true
   },
   "outputs": [
    {
     "data": {
      "text/plain": [
       "<AxesSubplot:ylabel='Frequency'>"
      ]
     },
     "execution_count": 15,
     "metadata": {},
     "output_type": "execute_result"
    },
    {
     "data": {
      "image/png": "[encoded data removed]",
      "text/plain": [
       "<Figure size 432x288 with 1 Axes>"
      ]
     },
     "metadata": {
      "needs_background": "light"
     },
     "output_type": "display_data"
    }
   ],
   "source": [
    "filtered_data = df['GROSS SQUARE FEET'][df['GROSS SQUARE FEET'] > 0]\n",
    "filtered_data.map(np.log).plot(kind='hist', bins=37)"
   ]
  },
  {
   "cell_type": "markdown",
   "id": "a4cc41e1",
   "metadata": {},
   "source": [
    "## 2.4 YEAR BUILT"
   ]
  },
  {
   "cell_type": "code",
   "execution_count": 16,
   "id": "4b72d605",
   "metadata": {},
   "outputs": [
    {
     "data": {
      "text/plain": [
       "38.78097977161143"
      ]
     },
     "execution_count": 16,
     "metadata": {},
     "output_type": "execute_result"
    }
   ],
   "source": [
    "1 + 3.322 * np.log(86939)"
   ]
  },
  {
   "cell_type": "code",
   "execution_count": 17,
   "id": "64a40ac0",
   "metadata": {},
   "outputs": [
    {
     "data": {
      "text/plain": [
       "Text(0.5, 0, 'Year Built')"
      ]
     },
     "execution_count": 17,
     "metadata": {},
     "output_type": "execute_result"
    },
    {
     "data": {
      "image/png": "[encoded data removed]",
      "text/plain": [
       "<Figure size 432x288 with 1 Axes>"
      ]
     },
     "metadata": {
      "needs_background": "light"
     },
     "output_type": "display_data"
    }
   ],
   "source": [
    "df['YEAR BUILT'].plot(kind='hist', bins=39, title=\"Histogram of Year Built\")  \n",
    "plt.xlabel('Year Built')"
   ]
  },
  {
   "cell_type": "code",
   "execution_count": 18,
   "id": "4c9451d6",
   "metadata": {
    "scrolled": true
   },
   "outputs": [
    {
     "data": {
      "text/plain": [
       "<AxesSubplot:ylabel='Frequency'>"
      ]
     },
     "execution_count": 18,
     "metadata": {},
     "output_type": "execute_result"
    },
    {
     "data": {
      "image/png": "[encoded data removed]",
      "text/plain": [
       "<Figure size 432x288 with 1 Axes>"
      ]
     },
     "metadata": {
      "needs_background": "light"
     },
     "output_type": "display_data"
    }
   ],
   "source": [
    "df['YEAR BUILT'].map(np.log).plot(kind='hist', bins=39)"
   ]
  },
  {
   "cell_type": "markdown",
   "id": "4602c763",
   "metadata": {},
   "source": [
    "## 2.5 SALE PRICE"
   ]
  },
  {
   "cell_type": "code",
   "execution_count": 19,
   "id": "bd639bdb",
   "metadata": {
    "scrolled": true
   },
   "outputs": [
    {
     "data": {
      "text/plain": [
       "Text(0.5, 0, 'Sale Price')"
      ]
     },
     "execution_count": 19,
     "metadata": {},
     "output_type": "execute_result"
    },
    {
     "data": {
      "image/png": "[encoded data removed]",
      "text/plain": [
       "<Figure size 432x288 with 1 Axes>"
      ]
     },
     "metadata": {
      "needs_background": "light"
     },
     "output_type": "display_data"
    }
   ],
   "source": [
    "df['SALE PRICE'].plot(kind='hist', bins=39, title=\"Histogram of Sale Price\")  \n",
    "plt.xlabel('Sale Price')"
   ]
  },
  {
   "cell_type": "code",
   "execution_count": 20,
   "id": "750a66a5",
   "metadata": {},
   "outputs": [
    {
     "data": {
      "text/plain": [
       "25579"
      ]
     },
     "execution_count": 20,
     "metadata": {},
     "output_type": "execute_result"
    }
   ],
   "source": [
    "(df['SALE PRICE'] == 0).sum()"
   ]
  },
  {
   "cell_type": "markdown",
   "id": "34dab171",
   "metadata": {},
   "source": [
    "* SALE PRICE has some 0s, so we delete the 0s and make the log plot.\n",
    "* SALE PRICE may have some outliers. We will need to deal with them later."
   ]
  },
  {
   "cell_type": "code",
   "execution_count": 21,
   "id": "39872941",
   "metadata": {},
   "outputs": [
    {
     "data": {
      "text/plain": [
       "<AxesSubplot:ylabel='Frequency'>"
      ]
     },
     "execution_count": 21,
     "metadata": {},
     "output_type": "execute_result"
    },
    {
     "data": {
      "image/png": "[encoded data removed]",
      "text/plain": [
       "<Figure size 432x288 with 1 Axes>"
      ]
     },
     "metadata": {
      "needs_background": "light"
     },
     "output_type": "display_data"
    }
   ],
   "source": [
    "filtered_data = df['SALE PRICE'][df['SALE PRICE'] > 0]\n",
    "filtered_data.map(np.log).plot(kind='hist', bins=39)"
   ]
  },
  {
   "cell_type": "markdown",
   "id": "b5935ee4",
   "metadata": {},
   "source": [
    "## 2.6 SALE DATE"
   ]
  },
  {
   "cell_type": "code",
   "execution_count": 22,
   "id": "78143960",
   "metadata": {},
   "outputs": [],
   "source": [
    "df['Year'] = df['SALE DATE'].dt.year\n",
    "df['Month'] = df['SALE DATE'].dt.month\n",
    "df['Day'] = df['SALE DATE'].dt.day\n",
    "df['Weekday'] = df['SALE DATE'].dt.weekday "
   ]
  },
  {
   "cell_type": "code",
   "execution_count": 23,
   "id": "3006aa86",
   "metadata": {
    "scrolled": true
   },
   "outputs": [
    {
     "data": {
      "text/html": [
       "<div>\n",
       "<style scoped>\n",
       "    .dataframe tbody tr th:only-of-type {\n",
       "        vertical-align: middle;\n",
       "    }\n",
       "\n",
       "    .dataframe tbody tr th {\n",
       "        vertical-align: top;\n",
       "    }\n",
       "\n",
       "    .dataframe thead th {\n",
       "        text-align: right;\n",
       "    }\n",
       "</style>\n",
       "<table border=\"1\" class=\"dataframe\">\n",
       "  <thead>\n",
       "    <tr style=\"text-align: right;\">\n",
       "      <th></th>\n",
       "      <th>BOROUGH</th>\n",
       "      <th>ADDRESS</th>\n",
       "      <th>ZIP CODE</th>\n",
       "      <th>GROSS SQUARE FEET</th>\n",
       "      <th>YEAR BUILT</th>\n",
       "      <th>SALE PRICE</th>\n",
       "      <th>SALE DATE</th>\n",
       "      <th>Latitude</th>\n",
       "      <th>Longitude</th>\n",
       "      <th>Clean Address</th>\n",
       "      <th>Match</th>\n",
       "      <th>Year</th>\n",
       "      <th>Month</th>\n",
       "      <th>Day</th>\n",
       "      <th>Weekday</th>\n",
       "    </tr>\n",
       "  </thead>\n",
       "  <tbody>\n",
       "    <tr>\n",
       "      <th>0</th>\n",
       "      <td>2</td>\n",
       "      <td>1667 WASHINGTON AVENUE</td>\n",
       "      <td>10457.0</td>\n",
       "      <td>3167.0</td>\n",
       "      <td>1899.0</td>\n",
       "      <td>980000</td>\n",
       "      <td>2022-09-10</td>\n",
       "      <td>40.841270</td>\n",
       "      <td>-73.901313</td>\n",
       "      <td>1667 WASHINGTON AVENUE</td>\n",
       "      <td>0</td>\n",
       "      <td>2022</td>\n",
       "      <td>9</td>\n",
       "      <td>10</td>\n",
       "      <td>5</td>\n",
       "    </tr>\n",
       "    <tr>\n",
       "      <th>1</th>\n",
       "      <td>2</td>\n",
       "      <td>410 EAST 179TH STREET</td>\n",
       "      <td>10457.0</td>\n",
       "      <td>2048.0</td>\n",
       "      <td>1901.0</td>\n",
       "      <td>655000</td>\n",
       "      <td>2022-11-03</td>\n",
       "      <td>40.850353</td>\n",
       "      <td>-73.898824</td>\n",
       "      <td>410 EAST 179TH STREET</td>\n",
       "      <td>0</td>\n",
       "      <td>2022</td>\n",
       "      <td>11</td>\n",
       "      <td>3</td>\n",
       "      <td>3</td>\n",
       "    </tr>\n",
       "    <tr>\n",
       "      <th>2</th>\n",
       "      <td>2</td>\n",
       "      <td>4455 PARK AVENUE</td>\n",
       "      <td>10457.0</td>\n",
       "      <td>1587.0</td>\n",
       "      <td>1899.0</td>\n",
       "      <td>520000</td>\n",
       "      <td>2022-10-28</td>\n",
       "      <td>40.853630</td>\n",
       "      <td>-73.895963</td>\n",
       "      <td>4455 PARK AVENUE</td>\n",
       "      <td>0</td>\n",
       "      <td>2022</td>\n",
       "      <td>10</td>\n",
       "      <td>28</td>\n",
       "      <td>4</td>\n",
       "    </tr>\n",
       "    <tr>\n",
       "      <th>3</th>\n",
       "      <td>2</td>\n",
       "      <td>443 EAST 180 STREET</td>\n",
       "      <td>10457.0</td>\n",
       "      <td>2820.0</td>\n",
       "      <td>1952.0</td>\n",
       "      <td>720000</td>\n",
       "      <td>2022-02-25</td>\n",
       "      <td>40.851764</td>\n",
       "      <td>-73.896429</td>\n",
       "      <td>443 EAST 180 STREET</td>\n",
       "      <td>0</td>\n",
       "      <td>2022</td>\n",
       "      <td>2</td>\n",
       "      <td>25</td>\n",
       "      <td>4</td>\n",
       "    </tr>\n",
       "    <tr>\n",
       "      <th>4</th>\n",
       "      <td>2</td>\n",
       "      <td>2327 WASHINGTON AVE</td>\n",
       "      <td>10458.0</td>\n",
       "      <td>1260.0</td>\n",
       "      <td>1910.0</td>\n",
       "      <td>499999</td>\n",
       "      <td>2022-04-30</td>\n",
       "      <td>40.855949</td>\n",
       "      <td>-73.892532</td>\n",
       "      <td>2327 WASHINGTON AVE</td>\n",
       "      <td>0</td>\n",
       "      <td>2022</td>\n",
       "      <td>4</td>\n",
       "      <td>30</td>\n",
       "      <td>5</td>\n",
       "    </tr>\n",
       "  </tbody>\n",
       "</table>\n",
       "</div>"
      ],
      "text/plain": [
       "   BOROUGH                 ADDRESS  ZIP CODE  GROSS SQUARE FEET  YEAR BUILT  \\\n",
       "0        2  1667 WASHINGTON AVENUE   10457.0             3167.0      1899.0   \n",
       "1        2   410 EAST 179TH STREET   10457.0             2048.0      1901.0   \n",
       "2        2        4455 PARK AVENUE   10457.0             1587.0      1899.0   \n",
       "3        2     443 EAST 180 STREET   10457.0             2820.0      1952.0   \n",
       "4        2     2327 WASHINGTON AVE   10458.0             1260.0      1910.0   \n",
       "\n",
       "   SALE PRICE  SALE DATE   Latitude  Longitude           Clean Address  Match  \\\n",
       "0      980000 2022-09-10  40.841270 -73.901313  1667 WASHINGTON AVENUE      0   \n",
       "1      655000 2022-11-03  40.850353 -73.898824   410 EAST 179TH STREET      0   \n",
       "2      520000 2022-10-28  40.853630 -73.895963        4455 PARK AVENUE      0   \n",
       "3      720000 2022-02-25  40.851764 -73.896429     443 EAST 180 STREET      0   \n",
       "4      499999 2022-04-30  40.855949 -73.892532     2327 WASHINGTON AVE      0   \n",
       "\n",
       "   Year  Month  Day  Weekday  \n",
       "0  2022      9   10        5  \n",
       "1  2022     11    3        3  \n",
       "2  2022     10   28        4  \n",
       "3  2022      2   25        4  \n",
       "4  2022      4   30        5  "
      ]
     },
     "execution_count": 23,
     "metadata": {},
     "output_type": "execute_result"
    }
   ],
   "source": [
    "df.head()"
   ]
  },
  {
   "cell_type": "code",
   "execution_count": 24,
   "id": "64151def",
   "metadata": {},
   "outputs": [
    {
     "data": {
      "text/plain": [
       "Text(0.5, 0, 'Year')"
      ]
     },
     "execution_count": 24,
     "metadata": {},
     "output_type": "execute_result"
    },
    {
     "data": {
      "image/png": "[encoded data removed]",
      "text/plain": [
       "<Figure size 432x288 with 1 Axes>"
      ]
     },
     "metadata": {
      "needs_background": "light"
     },
     "output_type": "display_data"
    }
   ],
   "source": [
    "df['Year'].plot(kind='hist', bins=39, title=\"Histogram of Year\")  \n",
    "plt.xlabel('Year')"
   ]
  },
  {
   "cell_type": "code",
   "execution_count": 25,
   "id": "7434c42f",
   "metadata": {},
   "outputs": [
    {
     "data": {
      "text/plain": [
       "249"
      ]
     },
     "execution_count": 25,
     "metadata": {},
     "output_type": "execute_result"
    }
   ],
   "source": [
    "(df['Year'] == 2023).sum()"
   ]
  },
  {
   "cell_type": "code",
   "execution_count": 26,
   "id": "96110e86",
   "metadata": {},
   "outputs": [
    {
     "data": {
      "text/plain": [
       "Text(0.5, 0, 'Month')"
      ]
     },
     "execution_count": 26,
     "metadata": {},
     "output_type": "execute_result"
    },
    {
     "data": {
      "image/png": "[encoded data removed]",
      "text/plain": [
       "<Figure size 432x288 with 1 Axes>"
      ]
     },
     "metadata": {
      "needs_background": "light"
     },
     "output_type": "display_data"
    }
   ],
   "source": [
    "df['Month'].plot(kind='hist', bins=39, title=\"Histogram of Month\")  \n",
    "plt.xlabel('Month')"
   ]
  },
  {
   "cell_type": "markdown",
   "id": "0062bcf4",
   "metadata": {},
   "source": [
    "* There is no seasonal trend."
   ]
  },
  {
   "cell_type": "code",
   "execution_count": 27,
   "id": "18a9871e",
   "metadata": {},
   "outputs": [
    {
     "data": {
      "text/plain": [
       "Text(0.5, 0, 'Day')"
      ]
     },
     "execution_count": 27,
     "metadata": {},
     "output_type": "execute_result"
    },
    {
     "data": {
      "image/png": "[encoded data removed]",
      "text/plain": [
       "<Figure size 432x288 with 1 Axes>"
      ]
     },
     "metadata": {
      "needs_background": "light"
     },
     "output_type": "display_data"
    }
   ],
   "source": [
    "df['Day'].plot(kind='hist', bins=39, title=\"Histogram of Day\")  \n",
    "plt.xlabel('Day')"
   ]
  },
  {
   "cell_type": "code",
   "execution_count": 28,
   "id": "208d0d58",
   "metadata": {},
   "outputs": [
    {
     "data": {
      "text/plain": [
       "Text(0.5, 0, 'Weekday')"
      ]
     },
     "execution_count": 28,
     "metadata": {},
     "output_type": "execute_result"
    },
    {
     "data": {
      "image/png": "[encoded data removed]",
      "text/plain": [
       "<Figure size 432x288 with 1 Axes>"
      ]
     },
     "metadata": {
      "needs_background": "light"
     },
     "output_type": "display_data"
    }
   ],
   "source": [
    "df['Weekday'].plot(kind='hist', bins=39, title=\"Histogram of Weekday\")  \n",
    "plt.xlabel('Weekday')"
   ]
  },
  {
   "cell_type": "markdown",
   "id": "b1f10e58",
   "metadata": {},
   "source": [
    "* There are a lot fewer sales on Mondays and Tuesdays. Interesting."
   ]
  },
  {
   "cell_type": "markdown",
   "id": "83aa28f8",
   "metadata": {},
   "source": [
    "## 2.7 Latitude"
   ]
  },
  {
   "cell_type": "code",
   "execution_count": 29,
   "id": "0b19e6c8",
   "metadata": {},
   "outputs": [
    {
     "data": {
      "text/plain": [
       "38.9319446406127"
      ]
     },
     "execution_count": 29,
     "metadata": {},
     "output_type": "execute_result"
    }
   ],
   "source": [
    "1 + 3.322 * np.log(90981)"
   ]
  },
  {
   "cell_type": "code",
   "execution_count": 30,
   "id": "c507316e",
   "metadata": {},
   "outputs": [
    {
     "data": {
      "text/plain": [
       "Text(0.5, 0, 'Latitude')"
      ]
     },
     "execution_count": 30,
     "metadata": {},
     "output_type": "execute_result"
    },
    {
     "data": {
      "image/png": "[encoded data removed]",
      "text/plain": [
       "<Figure size 432x288 with 1 Axes>"
      ]
     },
     "metadata": {
      "needs_background": "light"
     },
     "output_type": "display_data"
    }
   ],
   "source": [
    "df['Latitude'].plot(kind='hist', bins=39, title=\"Histogram of Latitude\")  \n",
    "plt.xlabel('Latitude')"
   ]
  },
  {
   "cell_type": "code",
   "execution_count": 31,
   "id": "856f3ecf",
   "metadata": {
    "scrolled": true
   },
   "outputs": [
    {
     "data": {
      "text/plain": [
       "<AxesSubplot:ylabel='Frequency'>"
      ]
     },
     "execution_count": 31,
     "metadata": {},
     "output_type": "execute_result"
    },
    {
     "data": {
      "image/png": "[encoded data removed]",
      "text/plain": [
       "<Figure size 432x288 with 1 Axes>"
      ]
     },
     "metadata": {
      "needs_background": "light"
     },
     "output_type": "display_data"
    }
   ],
   "source": [
    "df['Latitude'].map(np.log).plot(kind='hist', bins=39)"
   ]
  },
  {
   "cell_type": "markdown",
   "id": "6cec2034",
   "metadata": {},
   "source": [
    "## 2.8 Longitude"
   ]
  },
  {
   "cell_type": "code",
   "execution_count": 32,
   "id": "41ca8bc7",
   "metadata": {
    "scrolled": true
   },
   "outputs": [
    {
     "data": {
      "text/plain": [
       "Text(0.5, 0, 'Longitude')"
      ]
     },
     "execution_count": 32,
     "metadata": {},
     "output_type": "execute_result"
    },
    {
     "data": {
      "image/png": "[encoded data removed]",
      "text/plain": [
       "<Figure size 432x288 with 1 Axes>"
      ]
     },
     "metadata": {
      "needs_background": "light"
     },
     "output_type": "display_data"
    }
   ],
   "source": [
    "df['Longitude'].plot(kind='hist', bins=39, title=\"Histogram of Longitude\")  \n",
    "plt.xlabel('Longitude')"
   ]
  },
  {
   "cell_type": "markdown",
   "id": "bfa46536",
   "metadata": {},
   "source": [
    "## 2.9 Match"
   ]
  },
  {
   "cell_type": "code",
   "execution_count": 33,
   "id": "7485348f",
   "metadata": {},
   "outputs": [
    {
     "data": {
      "text/plain": [
       "Text(0.5, 0, 'Match')"
      ]
     },
     "execution_count": 33,
     "metadata": {},
     "output_type": "execute_result"
    },
    {
     "data": {
      "image/png": "[encoded data removed]",
      "text/plain": [
       "<Figure size 432x288 with 1 Axes>"
      ]
     },
     "metadata": {
      "needs_background": "light"
     },
     "output_type": "display_data"
    }
   ],
   "source": [
    "df['Match'].plot(kind='hist', bins=39, title=\"Histogram of Match\")  \n",
    "plt.xlabel('Match')"
   ]
  },
  {
   "cell_type": "markdown",
   "id": "f331ea9c",
   "metadata": {},
   "source": [
    "# 3. Correlation "
   ]
  },
  {
   "cell_type": "code",
   "execution_count": 34,
   "id": "b7ae0bf8",
   "metadata": {},
   "outputs": [
    {
     "data": {
      "image/png": "[encoded data removed]",
      "text/plain": [
       "<Figure size 432x288 with 2 Axes>"
      ]
     },
     "metadata": {
      "needs_background": "light"
     },
     "output_type": "display_data"
    }
   ],
   "source": [
    "import seaborn as sns\n",
    "\n",
    "sns.heatmap(df.corr(), annot=True, cmap='coolwarm', fmt=\".2f\")\n",
    "plt.show()"
   ]
  },
  {
   "cell_type": "markdown",
   "id": "c6216ee0",
   "metadata": {},
   "source": [
    "# 4. Missing Values"
   ]
  },
  {
   "cell_type": "markdown",
   "id": "cfb3b9b2",
   "metadata": {},
   "source": [
    "## 4.1 SALE PRICE"
   ]
  },
  {
   "cell_type": "markdown",
   "id": "ec715fe0",
   "metadata": {},
   "source": [
    "* Consider the price smaller than $1000 as outliers."
   ]
  },
  {
   "cell_type": "code",
   "execution_count": 35,
   "id": "d371ced1",
   "metadata": {},
   "outputs": [],
   "source": [
    "outliers = df['SALE PRICE'] < 1000"
   ]
  },
  {
   "cell_type": "code",
   "execution_count": 36,
   "id": "8986b400",
   "metadata": {},
   "outputs": [],
   "source": [
    "df_no_outliers = df[~outliers]"
   ]
  },
  {
   "cell_type": "markdown",
   "id": "c5c31e54",
   "metadata": {},
   "source": [
    "* Impute using the median values of SALE PRICE by ZIP CODE."
   ]
  },
  {
   "cell_type": "code",
   "execution_count": 37,
   "id": "46b7ea96",
   "metadata": {},
   "outputs": [],
   "source": [
    "medians_by_zip = df_no_outliers.groupby('ZIP CODE')['SALE PRICE'].median().reset_index()\n",
    "medians_by_zip.columns = ['ZIP CODE', 'Median_Sale_Price']"
   ]
  },
  {
   "cell_type": "code",
   "execution_count": 38,
   "id": "fd52922c",
   "metadata": {},
   "outputs": [],
   "source": [
    "df = pd.merge(df, medians_by_zip, on='ZIP CODE', how='left')"
   ]
  },
  {
   "cell_type": "code",
   "execution_count": 39,
   "id": "b24ad763",
   "metadata": {},
   "outputs": [],
   "source": [
    "df.loc[outliers, 'SALE PRICE'] = df.loc[outliers, 'Median_Sale_Price']"
   ]
  },
  {
   "cell_type": "code",
   "execution_count": 40,
   "id": "c446eae8",
   "metadata": {},
   "outputs": [],
   "source": [
    "df = df.drop(['Median_Sale_Price'], axis=1)"
   ]
  },
  {
   "cell_type": "markdown",
   "id": "f45b3a0c",
   "metadata": {},
   "source": [
    "## 4.2 GROSS SQUARE FEET"
   ]
  },
  {
   "cell_type": "markdown",
   "id": "bd9b46fb",
   "metadata": {},
   "source": [
    "* Using SALE PRICE to predict the missing values of GROSS SQUARE FEET."
   ]
  },
  {
   "cell_type": "code",
   "execution_count": 42,
   "id": "64822bc6",
   "metadata": {
    "scrolled": true
   },
   "outputs": [
    {
     "data": {
      "text/plain": [
       "1081"
      ]
     },
     "execution_count": 42,
     "metadata": {},
     "output_type": "execute_result"
    }
   ],
   "source": [
    "outliers = df['GROSS SQUARE FEET'] < 10\n",
    "outliers.sum()"
   ]
  },
  {
   "cell_type": "code",
   "execution_count": 43,
   "id": "37233f71",
   "metadata": {},
   "outputs": [
    {
     "data": {
      "text/plain": [
       "12"
      ]
     },
     "execution_count": 43,
     "metadata": {},
     "output_type": "execute_result"
    }
   ],
   "source": [
    "df['SALE PRICE'].isnull().sum()"
   ]
  },
  {
   "cell_type": "code",
   "execution_count": 44,
   "id": "4293ce17",
   "metadata": {},
   "outputs": [],
   "source": [
    "df = df.dropna(subset=['SALE PRICE']) "
   ]
  },
  {
   "cell_type": "code",
   "execution_count": 45,
   "id": "4ced5f76",
   "metadata": {},
   "outputs": [
    {
     "data": {
      "text/plain": [
       "0"
      ]
     },
     "execution_count": 45,
     "metadata": {},
     "output_type": "execute_result"
    }
   ],
   "source": [
    "df['SALE PRICE'].isnull().sum()"
   ]
  },
  {
   "cell_type": "markdown",
   "id": "553f16f5",
   "metadata": {},
   "source": [
    "* Try using different models and pick the one that works best."
   ]
  },
  {
   "cell_type": "code",
   "execution_count": 46,
   "id": "6e91b4b6",
   "metadata": {
    "scrolled": true
   },
   "outputs": [
    {
     "data": {
      "text/plain": [
       "48612"
      ]
     },
     "execution_count": 46,
     "metadata": {},
     "output_type": "execute_result"
    }
   ],
   "source": [
    "from sklearn.model_selection import train_test_split\n",
    "from sklearn.linear_model import LinearRegression\n",
    "from sklearn.metrics import mean_absolute_error, mean_squared_error, r2_score\n",
    "\n",
    "df_nona = df.dropna(subset=['GROSS SQUARE FEET'])\n",
    "len(df_nona)"
   ]
  },
  {
   "cell_type": "code",
   "execution_count": 47,
   "id": "347ea27a",
   "metadata": {},
   "outputs": [
    {
     "data": {
      "text/plain": [
       "1081"
      ]
     },
     "execution_count": 47,
     "metadata": {},
     "output_type": "execute_result"
    }
   ],
   "source": [
    "outliers = df['GROSS SQUARE FEET'] < 10\n",
    "outliers.sum()"
   ]
  },
  {
   "cell_type": "code",
   "execution_count": 48,
   "id": "67a1a3c8",
   "metadata": {},
   "outputs": [
    {
     "name": "stderr",
     "output_type": "stream",
     "text": [
      "/var/folders/rv/bklh4q_d2157rwx2l15fwmk40000gn/T/ipykernel_34975/1419139919.py:1: UserWarning: Boolean Series key will be reindexed to match DataFrame index.\n",
      "  df_clean = df_nona[~outliers].reset_index(drop=True)\n"
     ]
    }
   ],
   "source": [
    "df_clean = df_nona[~outliers].reset_index(drop=True)"
   ]
  },
  {
   "cell_type": "code",
   "execution_count": 49,
   "id": "dc08a65d",
   "metadata": {},
   "outputs": [
    {
     "data": {
      "text/plain": [
       "47531"
      ]
     },
     "execution_count": 49,
     "metadata": {},
     "output_type": "execute_result"
    }
   ],
   "source": [
    "len(df_clean)"
   ]
  },
  {
   "cell_type": "code",
   "execution_count": 50,
   "id": "bc41905a",
   "metadata": {},
   "outputs": [],
   "source": [
    "# Separate the dataset into features (X) and target variable (y)\n",
    "X = df_clean[['SALE PRICE']].values.reshape(-1, 1)  # Features\n",
    "y = df_clean['GROSS SQUARE FEET']  # Target variable"
   ]
  },
  {
   "cell_type": "code",
   "execution_count": 51,
   "id": "d283ec03",
   "metadata": {},
   "outputs": [],
   "source": [
    "# Split the data into training and testing sets\n",
    "train_raw = df_clean[df_clean['SALE DATE'] < '2022-10-15'].reset_index(drop=True)\n",
    "test_raw = df_clean[df_clean['SALE DATE'] >= '2022-10-15'].reset_index(drop=True)"
   ]
  },
  {
   "cell_type": "code",
   "execution_count": 52,
   "id": "5de1c84a",
   "metadata": {},
   "outputs": [
    {
     "data": {
      "text/plain": [
       "38563"
      ]
     },
     "execution_count": 52,
     "metadata": {},
     "output_type": "execute_result"
    }
   ],
   "source": [
    "len(train_raw)"
   ]
  },
  {
   "cell_type": "code",
   "execution_count": 53,
   "id": "180fbfda",
   "metadata": {},
   "outputs": [
    {
     "data": {
      "text/plain": [
       "8968"
      ]
     },
     "execution_count": 53,
     "metadata": {},
     "output_type": "execute_result"
    }
   ],
   "source": [
    "len(test_raw)"
   ]
  },
  {
   "cell_type": "code",
   "execution_count": 54,
   "id": "7f11d889",
   "metadata": {},
   "outputs": [],
   "source": [
    "X_train = train_raw['SALE PRICE'].values.reshape(-1, 1)\n",
    "y_train = train_raw['GROSS SQUARE FEET']\n",
    "\n",
    "X_test = test_raw['SALE PRICE'].values.reshape(-1, 1)\n",
    "y_test = test_raw['GROSS SQUARE FEET']"
   ]
  },
  {
   "cell_type": "code",
   "execution_count": 55,
   "id": "7bbb2271",
   "metadata": {},
   "outputs": [
    {
     "name": "stdout",
     "output_type": "stream",
     "text": [
      "train MAE: 6.45e+03\n",
      "train MSE: 1.33e+09\n",
      "train R2: 0.059\n",
      "-------------------\n",
      "test MAE: 7.01e+03\n",
      "test MSE: 1.66e+09\n",
      "test R2: 0.060\n"
     ]
    }
   ],
   "source": [
    "# Train a linear regression model\n",
    "model = LinearRegression()\n",
    "model.fit(X_train, y_train)\n",
    "\n",
    "# Predict on the training set\n",
    "y_train_pred = model.predict(X_train)\n",
    "\n",
    "# Predict on the testing set\n",
    "y_test_pred = model.predict(X_test)\n",
    "\n",
    "# Evaluate the model\n",
    "print('train MAE: {0:.2e}'.format(mean_absolute_error(y_train, y_train_pred)))\n",
    "print('train MSE: {0:.2e}'.format(mean_squared_error(y_train, y_train_pred)))\n",
    "print('train R2: {0:.3f}'.format(r2_score(y_train, y_train_pred)))\n",
    "print('-------------------')\n",
    "print('test MAE: {0:.2e}'.format(mean_absolute_error(y_test, y_test_pred)))\n",
    "print('test MSE: {0:.2e}'.format(mean_squared_error(y_test, y_test_pred)))\n",
    "print('test R2: {0:.3f}'.format(r2_score(y_test, y_test_pred)))"
   ]
  },
  {
   "cell_type": "code",
   "execution_count": 56,
   "id": "9e33d11e",
   "metadata": {},
   "outputs": [
    {
     "name": "stdout",
     "output_type": "stream",
     "text": [
      "train MAE: 3.74e+03\n",
      "train MSE: 6.43e+08\n",
      "train R2: 0.546\n",
      "-------------------\n",
      "test MAE: 6.31e+03\n",
      "test MSE: 1.77e+09\n",
      "test R2: -0.000\n"
     ]
    }
   ],
   "source": [
    "from sklearn.ensemble import RandomForestRegressor\n",
    "\n",
    "rf_model = RandomForestRegressor(n_estimators=100, random_state=42)\n",
    "rf_model.fit(X_train, y_train)\n",
    "\n",
    "# Predict on the training set\n",
    "y_train_pred = rf_model.predict(X_train)\n",
    "\n",
    "# Predict on the testing set\n",
    "y_test_pred = rf_model.predict(X_test)\n",
    "\n",
    "# Evaluate the model\n",
    "print('train MAE: {0:.2e}'.format(mean_absolute_error(y_train, y_train_pred)))\n",
    "print('train MSE: {0:.2e}'.format(mean_squared_error(y_train, y_train_pred)))\n",
    "print('train R2: {0:.3f}'.format(r2_score(y_train, y_train_pred)))\n",
    "print('-------------------')\n",
    "print('test MAE: {0:.2e}'.format(mean_absolute_error(y_test, y_test_pred)))\n",
    "print('test MSE: {0:.2e}'.format(mean_squared_error(y_test, y_test_pred)))\n",
    "print('test R2: {0:.3f}'.format(r2_score(y_test, y_test_pred)))"
   ]
  },
  {
   "cell_type": "code",
   "execution_count": 57,
   "id": "13bc3f2d",
   "metadata": {},
   "outputs": [
    {
     "name": "stdout",
     "output_type": "stream",
     "text": [
      "train MAE: 6.29e+03\n",
      "train MSE: 1.32e+09\n",
      "train R2: 0.067\n",
      "-------------------\n",
      "test MAE: 6.89e+03\n",
      "test MSE: 1.68e+09\n",
      "test R2: 0.046\n"
     ]
    }
   ],
   "source": [
    "from xgboost import XGBRegressor\n",
    "\n",
    "xgb_model = XGBRegressor(n_estimators=100, random_state=42)\n",
    "xgb_model.fit(X_train, y_train)\n",
    "\n",
    "# Predict on the training set\n",
    "y_train_pred = xgb_model.predict(X_train)\n",
    "\n",
    "# Predict on the testing set\n",
    "y_test_pred = xgb_model.predict(X_test)\n",
    "\n",
    "# Evaluate the model\n",
    "print('train MAE: {0:.2e}'.format(mean_absolute_error(y_train, y_train_pred)))\n",
    "print('train MSE: {0:.2e}'.format(mean_squared_error(y_train, y_train_pred)))\n",
    "print('train R2: {0:.3f}'.format(r2_score(y_train, y_train_pred)))\n",
    "print('-------------------')\n",
    "print('test MAE: {0:.2e}'.format(mean_absolute_error(y_test, y_test_pred)))\n",
    "print('test MSE: {0:.2e}'.format(mean_squared_error(y_test, y_test_pred)))\n",
    "print('test R2: {0:.3f}'.format(r2_score(y_test, y_test_pred)))\n"
   ]
  },
  {
   "cell_type": "markdown",
   "id": "533c7291",
   "metadata": {},
   "source": [
    "* Tune random forest."
   ]
  },
  {
   "cell_type": "code",
   "execution_count": 58,
   "id": "2f273175",
   "metadata": {},
   "outputs": [],
   "source": [
    "from sklearn.model_selection import KFold\n",
    "from sklearn.model_selection import GridSearchCV\n",
    "from sklearn.metrics import make_scorer\n",
    "\n",
    "param_grid = {\n",
    "              'n_estimators': [50, 100, 200],\n",
    "              'max_depth': [3, 6, 9, 20, 50, 100], #default is None, which means infinity\n",
    "              'min_samples_leaf': [1, 3, 5, 10, 20],\n",
    "              'min_samples_split': [2, 3, 5, 8]                \n",
    "             }\n",
    "\n",
    "rf_model = RandomForestRegressor(random_state=42)\n",
    "grid_search = GridSearchCV(estimator=rf_model, param_grid=param_grid, cv=5, scoring='neg_mean_squared_error')\n",
    "grid_search.fit(X_train, y_train)\n",
    "\n",
    "best_params = grid_search.best_params_\n",
    "best_rf_model = grid_search.best_estimator_"
   ]
  },
  {
   "cell_type": "code",
   "execution_count": 59,
   "id": "efd3f9cb",
   "metadata": {},
   "outputs": [
    {
     "name": "stdout",
     "output_type": "stream",
     "text": [
      "train MAE: 6.19e+03\n",
      "train MSE: 1.27e+09\n",
      "train R2: 0.103\n",
      "-------------------\n",
      "test MAE: 6.76e+03\n",
      "test MSE: 1.64e+09\n",
      "test R2: 0.074\n"
     ]
    }
   ],
   "source": [
    "# Predict on the training set\n",
    "y_train_pred = best_rf_model.predict(X_train)\n",
    "\n",
    "# Predict on the testing set\n",
    "y_test_pred = best_rf_model.predict(X_test)\n",
    "\n",
    "# Evaluate the model\n",
    "print('train MAE: {0:.2e}'.format(mean_absolute_error(y_train, y_train_pred)))\n",
    "print('train MSE: {0:.2e}'.format(mean_squared_error(y_train, y_train_pred)))\n",
    "print('train R2: {0:.3f}'.format(r2_score(y_train, y_train_pred)))\n",
    "print('-------------------')\n",
    "print('test MAE: {0:.2e}'.format(mean_absolute_error(y_test, y_test_pred)))\n",
    "print('test MSE: {0:.2e}'.format(mean_squared_error(y_test, y_test_pred)))\n",
    "print('test R2: {0:.3f}'.format(r2_score(y_test, y_test_pred)))"
   ]
  },
  {
   "cell_type": "markdown",
   "id": "717b59b7",
   "metadata": {},
   "source": [
    "* Finally we choose Random Forest to impute the data."
   ]
  },
  {
   "cell_type": "code",
   "execution_count": 62,
   "id": "3aaf3f3b",
   "metadata": {},
   "outputs": [],
   "source": [
    "missing_values = df['GROSS SQUARE FEET'].isnull()\n",
    "outliers = df['GROSS SQUARE FEET'] < 10"
   ]
  },
  {
   "cell_type": "code",
   "execution_count": 67,
   "id": "df8ea79c",
   "metadata": {},
   "outputs": [],
   "source": [
    "X = df[['SALE PRICE']].values.reshape(-1, 1)\n",
    "\n",
    "X_impute = X[missing_values | outliers]\n",
    "y_impute = best_rf_model.predict(X_impute)\n",
    "\n",
    "df.loc[missing_values | outliers, 'GROSS SQUARE FEET'] = y_impute"
   ]
  },
  {
   "cell_type": "code",
   "execution_count": 68,
   "id": "f4549fd8",
   "metadata": {},
   "outputs": [
    {
     "data": {
      "text/plain": [
       "0"
      ]
     },
     "execution_count": 68,
     "metadata": {},
     "output_type": "execute_result"
    }
   ],
   "source": [
    "df['GROSS SQUARE FEET'].isnull().sum()"
   ]
  },
  {
   "cell_type": "code",
   "execution_count": 69,
   "id": "70d7171b",
   "metadata": {},
   "outputs": [
    {
     "data": {
      "text/plain": [
       "30.0"
      ]
     },
     "execution_count": 69,
     "metadata": {},
     "output_type": "execute_result"
    }
   ],
   "source": [
    "df['GROSS SQUARE FEET'].min()"
   ]
  },
  {
   "cell_type": "code",
   "execution_count": 70,
   "id": "6df68d0d",
   "metadata": {},
   "outputs": [
    {
     "data": {
      "text/plain": [
       "2400000.0"
      ]
     },
     "execution_count": 70,
     "metadata": {},
     "output_type": "execute_result"
    }
   ],
   "source": [
    "df['GROSS SQUARE FEET'].max()"
   ]
  },
  {
   "cell_type": "markdown",
   "id": "d9e44332",
   "metadata": {},
   "source": [
    "## 4.3 Latitude and Longitude"
   ]
  },
  {
   "cell_type": "markdown",
   "id": "3477120a",
   "metadata": {},
   "source": [
    "* Use ZIP CODE to impute Longitude first and then use Longitude to impute Latitude."
   ]
  },
  {
   "cell_type": "code",
   "execution_count": 71,
   "id": "241f52aa",
   "metadata": {},
   "outputs": [],
   "source": [
    "df_clean = df.dropna(subset=['Longitude'])"
   ]
  },
  {
   "cell_type": "code",
   "execution_count": 72,
   "id": "05235e27",
   "metadata": {},
   "outputs": [],
   "source": [
    "X = df_clean[['ZIP CODE']].values.reshape(-1, 1)  # Features\n",
    "y = df_clean['Longitude']  # Target variable\n",
    "\n",
    "train_raw = df_clean[df_clean['SALE DATE'] < '2022-10-15'].reset_index(drop=True)\n",
    "test_raw = df_clean[df_clean['SALE DATE'] >= '2022-10-15'].reset_index(drop=True)\n",
    "\n",
    "X_train = train_raw['ZIP CODE'].values.reshape(-1, 1)\n",
    "y_train = train_raw['Longitude']\n",
    "\n",
    "X_test = test_raw['ZIP CODE'].values.reshape(-1, 1)\n",
    "y_test = test_raw['Longitude']"
   ]
  },
  {
   "cell_type": "code",
   "execution_count": 73,
   "id": "6d6f4552",
   "metadata": {},
   "outputs": [
    {
     "name": "stdout",
     "output_type": "stream",
     "text": [
      "train MAE: 6.78e-02\n",
      "train MSE: 6.95e-03\n",
      "train R2: 0.301\n",
      "-------------------\n",
      "test MAE: 6.86e-02\n",
      "test MSE: 7.12e-03\n",
      "test R2: 0.302\n"
     ]
    }
   ],
   "source": [
    "# Train a linear regression model\n",
    "model = LinearRegression()\n",
    "model.fit(X_train, y_train)\n",
    "\n",
    "# Predict on the training set\n",
    "y_train_pred = model.predict(X_train)\n",
    "\n",
    "# Predict on the testing set\n",
    "y_test_pred = model.predict(X_test)\n",
    "\n",
    "# Evaluate the model\n",
    "print('train MAE: {0:.2e}'.format(mean_absolute_error(y_train, y_train_pred)))\n",
    "print('train MSE: {0:.2e}'.format(mean_squared_error(y_train, y_train_pred)))\n",
    "print('train R2: {0:.3f}'.format(r2_score(y_train, y_train_pred)))\n",
    "print('-------------------')\n",
    "print('test MAE: {0:.2e}'.format(mean_absolute_error(y_test, y_test_pred)))\n",
    "print('test MSE: {0:.2e}'.format(mean_squared_error(y_test, y_test_pred)))\n",
    "print('test R2: {0:.3f}'.format(r2_score(y_test, y_test_pred)))"
   ]
  },
  {
   "cell_type": "code",
   "execution_count": 75,
   "id": "410d9ccd",
   "metadata": {},
   "outputs": [],
   "source": [
    "missing_values = df['Longitude'].isnull()\n",
    "\n",
    "X = df[['ZIP CODE']].values.reshape(-1, 1)\n",
    "\n",
    "X_impute = X[missing_values]\n",
    "y_impute = model.predict(X_impute)\n",
    "\n",
    "df.loc[missing_values, 'Longitude'] = y_impute"
   ]
  },
  {
   "cell_type": "code",
   "execution_count": 77,
   "id": "732f8f29",
   "metadata": {},
   "outputs": [
    {
     "data": {
      "text/plain": [
       "0"
      ]
     },
     "execution_count": 77,
     "metadata": {},
     "output_type": "execute_result"
    }
   ],
   "source": [
    "df['Longitude'].isnull().sum()"
   ]
  },
  {
   "cell_type": "markdown",
   "id": "1c7bd296",
   "metadata": {},
   "source": [
    "* Use Longitude to impute Latitude."
   ]
  },
  {
   "cell_type": "code",
   "execution_count": 79,
   "id": "202ecb29",
   "metadata": {},
   "outputs": [],
   "source": [
    "df_clean = df.dropna(subset=['Latitude'])"
   ]
  },
  {
   "cell_type": "code",
   "execution_count": 80,
   "id": "e83eb50d",
   "metadata": {},
   "outputs": [],
   "source": [
    "X = df_clean[['Longitude']].values.reshape(-1, 1)  # Features\n",
    "y = df_clean['Latitude']  # Target variable\n",
    "\n",
    "train_raw = df_clean[df_clean['SALE DATE'] < '2022-10-15'].reset_index(drop=True)\n",
    "test_raw = df_clean[df_clean['SALE DATE'] >= '2022-10-15'].reset_index(drop=True)\n",
    "\n",
    "X_train = train_raw['Longitude'].values.reshape(-1, 1)\n",
    "y_train = train_raw['Latitude']\n",
    "\n",
    "X_test = test_raw['Longitude'].values.reshape(-1, 1)\n",
    "y_test = test_raw['Latitude']"
   ]
  },
  {
   "cell_type": "code",
   "execution_count": 81,
   "id": "86129e3d",
   "metadata": {},
   "outputs": [
    {
     "name": "stdout",
     "output_type": "stream",
     "text": [
      "train MAE: 5.74e-02\n",
      "train MSE: 4.78e-03\n",
      "train R2: 0.209\n",
      "-------------------\n",
      "test MAE: 5.77e-02\n",
      "test MSE: 4.83e-03\n",
      "test R2: 0.219\n"
     ]
    }
   ],
   "source": [
    "# Train a linear regression model\n",
    "model = LinearRegression()\n",
    "model.fit(X_train, y_train)\n",
    "\n",
    "# Predict on the training set\n",
    "y_train_pred = model.predict(X_train)\n",
    "\n",
    "# Predict on the testing set\n",
    "y_test_pred = model.predict(X_test)\n",
    "\n",
    "# Evaluate the model\n",
    "print('train MAE: {0:.2e}'.format(mean_absolute_error(y_train, y_train_pred)))\n",
    "print('train MSE: {0:.2e}'.format(mean_squared_error(y_train, y_train_pred)))\n",
    "print('train R2: {0:.3f}'.format(r2_score(y_train, y_train_pred)))\n",
    "print('-------------------')\n",
    "print('test MAE: {0:.2e}'.format(mean_absolute_error(y_test, y_test_pred)))\n",
    "print('test MSE: {0:.2e}'.format(mean_squared_error(y_test, y_test_pred)))\n",
    "print('test R2: {0:.3f}'.format(r2_score(y_test, y_test_pred)))"
   ]
  },
  {
   "cell_type": "code",
   "execution_count": 82,
   "id": "b64918f1",
   "metadata": {},
   "outputs": [],
   "source": [
    "missing_values = df['Latitude'].isnull()\n",
    "\n",
    "X = df[['Longitude']].values.reshape(-1, 1)\n",
    "\n",
    "X_impute = X[missing_values]\n",
    "y_impute = model.predict(X_impute)\n",
    "\n",
    "df.loc[missing_values, 'Latitude'] = y_impute"
   ]
  },
  {
   "cell_type": "code",
   "execution_count": 83,
   "id": "25b7d0df",
   "metadata": {},
   "outputs": [
    {
     "data": {
      "text/plain": [
       "0"
      ]
     },
     "execution_count": 83,
     "metadata": {},
     "output_type": "execute_result"
    }
   ],
   "source": [
    "df['Latitude'].isnull().sum()"
   ]
  },
  {
   "cell_type": "markdown",
   "id": "7412601b",
   "metadata": {},
   "source": [
    "## 4.4 YEAR BUILT"
   ]
  },
  {
   "cell_type": "markdown",
   "id": "401a7f39",
   "metadata": {},
   "source": [
    "* Since the missing values are around 5% of the total values. We use the most frequent year to impute.\n",
    "* We also need to detect outliers before that."
   ]
  },
  {
   "cell_type": "code",
   "execution_count": 85,
   "id": "0406b113",
   "metadata": {},
   "outputs": [],
   "source": [
    "Q1 = df['YEAR BUILT'].quantile(0.25)\n",
    "Q3 = df['YEAR BUILT'].quantile(0.75)\n",
    "IQR = Q3 - Q1\n",
    "\n",
    "# Define lower and upper bounds for considering values as outliers\n",
    "lower_bound = Q1 - 1.5 * IQR\n",
    "upper_bound = Q3 + 1.5 * IQR\n",
    "\n",
    "null_values = df['YEAR BUILT'].isnull()\n",
    "outliers = (df['YEAR BUILT'] < lower_bound) | (df['YEAR BUILT'] > upper_bound)\n",
    "\n",
    "most_frequent_value = df['YEAR BUILT'].mode()[0]\n",
    "df.loc[null_values, 'YEAR BUILT'] = most_frequent_value\n",
    "df.loc[outliers, 'YEAR BUILT'] = most_frequent_value"
   ]
  },
  {
   "cell_type": "code",
   "execution_count": 86,
   "id": "29a2a2dd",
   "metadata": {},
   "outputs": [
    {
     "data": {
      "text/plain": [
       "0"
      ]
     },
     "execution_count": 86,
     "metadata": {},
     "output_type": "execute_result"
    }
   ],
   "source": [
    "df['YEAR BUILT'].isnull().sum()"
   ]
  },
  {
   "cell_type": "code",
   "execution_count": 87,
   "id": "d8a12ce1",
   "metadata": {},
   "outputs": [
    {
     "data": {
      "text/plain": [
       "1844.0"
      ]
     },
     "execution_count": 87,
     "metadata": {},
     "output_type": "execute_result"
    }
   ],
   "source": [
    "df['YEAR BUILT'].min()"
   ]
  },
  {
   "cell_type": "code",
   "execution_count": 88,
   "id": "2831f002",
   "metadata": {},
   "outputs": [
    {
     "data": {
      "text/plain": [
       "2022.0"
      ]
     },
     "execution_count": 88,
     "metadata": {},
     "output_type": "execute_result"
    }
   ],
   "source": [
    "df['YEAR BUILT'].max()"
   ]
  },
  {
   "cell_type": "code",
   "execution_count": 89,
   "id": "d9f58230",
   "metadata": {},
   "outputs": [
    {
     "name": "stdout",
     "output_type": "stream",
     "text": [
      "<class 'pandas.core.frame.DataFrame'>\n",
      "Int64Index: 92196 entries, 0 to 92207\n",
      "Data columns (total 15 columns):\n",
      " #   Column             Non-Null Count  Dtype         \n",
      "---  ------             --------------  -----         \n",
      " 0   BOROUGH            92196 non-null  int64         \n",
      " 1   ADDRESS            92196 non-null  object        \n",
      " 2   ZIP CODE           92196 non-null  float64       \n",
      " 3   GROSS SQUARE FEET  92196 non-null  float64       \n",
      " 4   YEAR BUILT         92196 non-null  float64       \n",
      " 5   SALE PRICE         92196 non-null  float64       \n",
      " 6   SALE DATE          92196 non-null  datetime64[ns]\n",
      " 7   Latitude           92196 non-null  float64       \n",
      " 8   Longitude          92196 non-null  float64       \n",
      " 9   Clean Address      92196 non-null  object        \n",
      " 10  Match              92196 non-null  int64         \n",
      " 11  Year               92196 non-null  int64         \n",
      " 12  Month              92196 non-null  int64         \n",
      " 13  Day                92196 non-null  int64         \n",
      " 14  Weekday            92196 non-null  int64         \n",
      "dtypes: datetime64[ns](1), float64(6), int64(6), object(2)\n",
      "memory usage: 13.3+ MB\n"
     ]
    }
   ],
   "source": [
    "df.info()"
   ]
  },
  {
   "cell_type": "code",
   "execution_count": 90,
   "id": "96158fa5",
   "metadata": {},
   "outputs": [],
   "source": [
    "df.to_csv('csv/clean_data.csv', index=False)"
   ]
  },
  {
   "cell_type": "code",
   "execution_count": null,
   "id": "125eca3d",
   "metadata": {},
   "outputs": [],
   "source": []
  }
 ],
 "metadata": {
  "kernelspec": {
   "display_name": "Python 3 (ipykernel)",
   "language": "python",
   "name": "python3"
  },
  "language_info": {
   "codemirror_mode": {
    "name": "ipython",
    "version": 3
   },
   "file_extension": ".py",
   "mimetype": "text/x-python",
   "name": "python",
   "nbconvert_exporter": "python",
   "pygments_lexer": "ipython3",
   "version": "3.9.7"
  }
 },
 "nbformat": 4,
 "nbformat_minor": 5
}
