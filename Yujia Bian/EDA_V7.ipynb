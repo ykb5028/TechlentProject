{
 "cells": [
  {
   "cell_type": "markdown",
   "id": "337696f7",
   "metadata": {},
   "source": [
    "# 1. Overview"
   ]
  },
  {
   "cell_type": "code",
   "execution_count": 1,
   "id": "901a9f82",
   "metadata": {},
   "outputs": [],
   "source": [
    "import pandas as pd\n",
    "\n",
    "pd.set_option('display.max_columns', None)"
   ]
  },
  {
   "cell_type": "code",
   "execution_count": 2,
   "id": "d9b87755",
   "metadata": {},
   "outputs": [
    {
     "data": {
      "text/html": [
       "<div>\n",
       "<style scoped>\n",
       "    .dataframe tbody tr th:only-of-type {\n",
       "        vertical-align: middle;\n",
       "    }\n",
       "\n",
       "    .dataframe tbody tr th {\n",
       "        vertical-align: top;\n",
       "    }\n",
       "\n",
       "    .dataframe thead th {\n",
       "        text-align: right;\n",
       "    }\n",
       "</style>\n",
       "<table border=\"1\" class=\"dataframe\">\n",
       "  <thead>\n",
       "    <tr style=\"text-align: right;\">\n",
       "      <th></th>\n",
       "      <th>BOROUGH</th>\n",
       "      <th>ADDRESS</th>\n",
       "      <th>ZIP CODE</th>\n",
       "      <th>GROSS SQUARE FEET</th>\n",
       "      <th>YEAR BUILT</th>\n",
       "      <th>SALE PRICE</th>\n",
       "      <th>SALE DATE</th>\n",
       "      <th>Latitude</th>\n",
       "      <th>Longitude</th>\n",
       "      <th>Clean Address</th>\n",
       "      <th>Match</th>\n",
       "    </tr>\n",
       "  </thead>\n",
       "  <tbody>\n",
       "    <tr>\n",
       "      <th>0</th>\n",
       "      <td>2</td>\n",
       "      <td>1667 WASHINGTON AVENUE</td>\n",
       "      <td>10457.0</td>\n",
       "      <td>3167.0</td>\n",
       "      <td>1899.0</td>\n",
       "      <td>980000</td>\n",
       "      <td>44812</td>\n",
       "      <td>40.841270</td>\n",
       "      <td>-73.901313</td>\n",
       "      <td>1667 WASHINGTON AVENUE</td>\n",
       "      <td>0</td>\n",
       "    </tr>\n",
       "    <tr>\n",
       "      <th>1</th>\n",
       "      <td>2</td>\n",
       "      <td>410 EAST 179TH STREET</td>\n",
       "      <td>10457.0</td>\n",
       "      <td>2048.0</td>\n",
       "      <td>1901.0</td>\n",
       "      <td>655000</td>\n",
       "      <td>44866</td>\n",
       "      <td>40.850353</td>\n",
       "      <td>-73.898824</td>\n",
       "      <td>410 EAST 179TH STREET</td>\n",
       "      <td>0</td>\n",
       "    </tr>\n",
       "    <tr>\n",
       "      <th>2</th>\n",
       "      <td>2</td>\n",
       "      <td>4455 PARK AVENUE</td>\n",
       "      <td>10457.0</td>\n",
       "      <td>1587.0</td>\n",
       "      <td>1899.0</td>\n",
       "      <td>520000</td>\n",
       "      <td>44860</td>\n",
       "      <td>40.853630</td>\n",
       "      <td>-73.895963</td>\n",
       "      <td>4455 PARK AVENUE</td>\n",
       "      <td>0</td>\n",
       "    </tr>\n",
       "    <tr>\n",
       "      <th>3</th>\n",
       "      <td>2</td>\n",
       "      <td>443 EAST 180 STREET</td>\n",
       "      <td>10457.0</td>\n",
       "      <td>2820.0</td>\n",
       "      <td>1952.0</td>\n",
       "      <td>720000</td>\n",
       "      <td>44615</td>\n",
       "      <td>40.851764</td>\n",
       "      <td>-73.896429</td>\n",
       "      <td>443 EAST 180 STREET</td>\n",
       "      <td>0</td>\n",
       "    </tr>\n",
       "    <tr>\n",
       "      <th>4</th>\n",
       "      <td>2</td>\n",
       "      <td>2327 WASHINGTON AVE</td>\n",
       "      <td>10458.0</td>\n",
       "      <td>1260.0</td>\n",
       "      <td>1910.0</td>\n",
       "      <td>499999</td>\n",
       "      <td>44679</td>\n",
       "      <td>40.855949</td>\n",
       "      <td>-73.892532</td>\n",
       "      <td>2327 WASHINGTON AVE</td>\n",
       "      <td>0</td>\n",
       "    </tr>\n",
       "  </tbody>\n",
       "</table>\n",
       "</div>"
      ],
      "text/plain": [
       "   BOROUGH                 ADDRESS  ZIP CODE  GROSS SQUARE FEET  YEAR BUILT  \\\n",
       "0        2  1667 WASHINGTON AVENUE   10457.0             3167.0      1899.0   \n",
       "1        2   410 EAST 179TH STREET   10457.0             2048.0      1901.0   \n",
       "2        2        4455 PARK AVENUE   10457.0             1587.0      1899.0   \n",
       "3        2     443 EAST 180 STREET   10457.0             2820.0      1952.0   \n",
       "4        2     2327 WASHINGTON AVE   10458.0             1260.0      1910.0   \n",
       "\n",
       "   SALE PRICE  SALE DATE   Latitude  Longitude           Clean Address  Match  \n",
       "0      980000      44812  40.841270 -73.901313  1667 WASHINGTON AVENUE      0  \n",
       "1      655000      44866  40.850353 -73.898824   410 EAST 179TH STREET      0  \n",
       "2      520000      44860  40.853630 -73.895963        4455 PARK AVENUE      0  \n",
       "3      720000      44615  40.851764 -73.896429     443 EAST 180 STREET      0  \n",
       "4      499999      44679  40.855949 -73.892532     2327 WASHINGTON AVE      0  "
      ]
     },
     "execution_count": 2,
     "metadata": {},
     "output_type": "execute_result"
    }
   ],
   "source": [
    "df = pd.read_csv('../csv/sold.csv')\n",
    "df.head()"
   ]
  },
  {
   "cell_type": "markdown",
   "id": "239dfbef",
   "metadata": {},
   "source": [
    "* SALE DATE is not in the right format. We will convert it to year-month-day."
   ]
  },
  {
   "cell_type": "code",
   "execution_count": 3,
   "id": "63c631fd",
   "metadata": {},
   "outputs": [],
   "source": [
    "df['SALE DATE'] = pd.to_datetime(df['SALE DATE'], unit='D', origin='1899-12-30')"
   ]
  },
  {
   "cell_type": "code",
   "execution_count": 4,
   "id": "d62345ec",
   "metadata": {},
   "outputs": [
    {
     "data": {
      "text/html": [
       "<div>\n",
       "<style scoped>\n",
       "    .dataframe tbody tr th:only-of-type {\n",
       "        vertical-align: middle;\n",
       "    }\n",
       "\n",
       "    .dataframe tbody tr th {\n",
       "        vertical-align: top;\n",
       "    }\n",
       "\n",
       "    .dataframe thead th {\n",
       "        text-align: right;\n",
       "    }\n",
       "</style>\n",
       "<table border=\"1\" class=\"dataframe\">\n",
       "  <thead>\n",
       "    <tr style=\"text-align: right;\">\n",
       "      <th></th>\n",
       "      <th>BOROUGH</th>\n",
       "      <th>ADDRESS</th>\n",
       "      <th>ZIP CODE</th>\n",
       "      <th>GROSS SQUARE FEET</th>\n",
       "      <th>YEAR BUILT</th>\n",
       "      <th>SALE PRICE</th>\n",
       "      <th>SALE DATE</th>\n",
       "      <th>Latitude</th>\n",
       "      <th>Longitude</th>\n",
       "      <th>Clean Address</th>\n",
       "      <th>Match</th>\n",
       "    </tr>\n",
       "  </thead>\n",
       "  <tbody>\n",
       "    <tr>\n",
       "      <th>0</th>\n",
       "      <td>2</td>\n",
       "      <td>1667 WASHINGTON AVENUE</td>\n",
       "      <td>10457.0</td>\n",
       "      <td>3167.0</td>\n",
       "      <td>1899.0</td>\n",
       "      <td>980000</td>\n",
       "      <td>2022-09-08</td>\n",
       "      <td>40.841270</td>\n",
       "      <td>-73.901313</td>\n",
       "      <td>1667 WASHINGTON AVENUE</td>\n",
       "      <td>0</td>\n",
       "    </tr>\n",
       "    <tr>\n",
       "      <th>1</th>\n",
       "      <td>2</td>\n",
       "      <td>410 EAST 179TH STREET</td>\n",
       "      <td>10457.0</td>\n",
       "      <td>2048.0</td>\n",
       "      <td>1901.0</td>\n",
       "      <td>655000</td>\n",
       "      <td>2022-11-01</td>\n",
       "      <td>40.850353</td>\n",
       "      <td>-73.898824</td>\n",
       "      <td>410 EAST 179TH STREET</td>\n",
       "      <td>0</td>\n",
       "    </tr>\n",
       "    <tr>\n",
       "      <th>2</th>\n",
       "      <td>2</td>\n",
       "      <td>4455 PARK AVENUE</td>\n",
       "      <td>10457.0</td>\n",
       "      <td>1587.0</td>\n",
       "      <td>1899.0</td>\n",
       "      <td>520000</td>\n",
       "      <td>2022-10-26</td>\n",
       "      <td>40.853630</td>\n",
       "      <td>-73.895963</td>\n",
       "      <td>4455 PARK AVENUE</td>\n",
       "      <td>0</td>\n",
       "    </tr>\n",
       "    <tr>\n",
       "      <th>3</th>\n",
       "      <td>2</td>\n",
       "      <td>443 EAST 180 STREET</td>\n",
       "      <td>10457.0</td>\n",
       "      <td>2820.0</td>\n",
       "      <td>1952.0</td>\n",
       "      <td>720000</td>\n",
       "      <td>2022-02-23</td>\n",
       "      <td>40.851764</td>\n",
       "      <td>-73.896429</td>\n",
       "      <td>443 EAST 180 STREET</td>\n",
       "      <td>0</td>\n",
       "    </tr>\n",
       "    <tr>\n",
       "      <th>4</th>\n",
       "      <td>2</td>\n",
       "      <td>2327 WASHINGTON AVE</td>\n",
       "      <td>10458.0</td>\n",
       "      <td>1260.0</td>\n",
       "      <td>1910.0</td>\n",
       "      <td>499999</td>\n",
       "      <td>2022-04-28</td>\n",
       "      <td>40.855949</td>\n",
       "      <td>-73.892532</td>\n",
       "      <td>2327 WASHINGTON AVE</td>\n",
       "      <td>0</td>\n",
       "    </tr>\n",
       "  </tbody>\n",
       "</table>\n",
       "</div>"
      ],
      "text/plain": [
       "   BOROUGH                 ADDRESS  ZIP CODE  GROSS SQUARE FEET  YEAR BUILT  \\\n",
       "0        2  1667 WASHINGTON AVENUE   10457.0             3167.0      1899.0   \n",
       "1        2   410 EAST 179TH STREET   10457.0             2048.0      1901.0   \n",
       "2        2        4455 PARK AVENUE   10457.0             1587.0      1899.0   \n",
       "3        2     443 EAST 180 STREET   10457.0             2820.0      1952.0   \n",
       "4        2     2327 WASHINGTON AVE   10458.0             1260.0      1910.0   \n",
       "\n",
       "   SALE PRICE  SALE DATE   Latitude  Longitude           Clean Address  Match  \n",
       "0      980000 2022-09-08  40.841270 -73.901313  1667 WASHINGTON AVENUE      0  \n",
       "1      655000 2022-11-01  40.850353 -73.898824   410 EAST 179TH STREET      0  \n",
       "2      520000 2022-10-26  40.853630 -73.895963        4455 PARK AVENUE      0  \n",
       "3      720000 2022-02-23  40.851764 -73.896429     443 EAST 180 STREET      0  \n",
       "4      499999 2022-04-28  40.855949 -73.892532     2327 WASHINGTON AVE      0  "
      ]
     },
     "execution_count": 4,
     "metadata": {},
     "output_type": "execute_result"
    }
   ],
   "source": [
    "df.head()"
   ]
  },
  {
   "cell_type": "code",
   "execution_count": 5,
   "id": "01a87853",
   "metadata": {},
   "outputs": [
    {
     "name": "stdout",
     "output_type": "stream",
     "text": [
      "<class 'pandas.core.frame.DataFrame'>\n",
      "RangeIndex: 92208 entries, 0 to 92207\n",
      "Data columns (total 11 columns):\n",
      " #   Column             Non-Null Count  Dtype         \n",
      "---  ------             --------------  -----         \n",
      " 0   BOROUGH            92208 non-null  int64         \n",
      " 1   ADDRESS            92208 non-null  object        \n",
      " 2   ZIP CODE           92208 non-null  float64       \n",
      " 3   GROSS SQUARE FEET  48612 non-null  float64       \n",
      " 4   YEAR BUILT         86939 non-null  float64       \n",
      " 5   SALE PRICE         92208 non-null  int64         \n",
      " 6   SALE DATE          92208 non-null  datetime64[ns]\n",
      " 7   Latitude           90981 non-null  float64       \n",
      " 8   Longitude          90981 non-null  float64       \n",
      " 9   Clean Address      92208 non-null  object        \n",
      " 10  Match              92208 non-null  int64         \n",
      "dtypes: datetime64[ns](1), float64(5), int64(3), object(2)\n",
      "memory usage: 7.7+ MB\n"
     ]
    }
   ],
   "source": [
    "df.info()"
   ]
  },
  {
   "cell_type": "markdown",
   "id": "7f56b15f",
   "metadata": {},
   "source": [
    "* BOROUGH, ADDRESS, ZIP CODE, SALE PRICE, SALE DATE, Clean Addreess and Match have no null values.\n",
    "* GROSS SQUARE FEET, YEAR BUILT, Latitude and Longitude have considerable null values."
   ]
  },
  {
   "cell_type": "code",
   "execution_count": 6,
   "id": "88a1a357",
   "metadata": {},
   "outputs": [
    {
     "data": {
      "text/plain": [
       "0    71313\n",
       "1    20880\n",
       "2       15\n",
       "Name: Match, dtype: int64"
      ]
     },
     "execution_count": 6,
     "metadata": {},
     "output_type": "execute_result"
    }
   ],
   "source": [
    "df['Match'].value_counts()"
   ]
  },
  {
   "cell_type": "code",
   "execution_count": 7,
   "id": "e1d9f184",
   "metadata": {},
   "outputs": [],
   "source": [
    "df['Match'] = df['Match'].replace(2, 1)"
   ]
  },
  {
   "cell_type": "code",
   "execution_count": 8,
   "id": "5b4fc733",
   "metadata": {},
   "outputs": [
    {
     "data": {
      "text/plain": [
       "0    71313\n",
       "1    20895\n",
       "Name: Match, dtype: int64"
      ]
     },
     "execution_count": 8,
     "metadata": {},
     "output_type": "execute_result"
    }
   ],
   "source": [
    "df['Match'].value_counts()"
   ]
  },
  {
   "cell_type": "code",
   "execution_count": 11,
   "id": "b2e286e4",
   "metadata": {},
   "outputs": [
    {
     "data": {
      "image/png": "[encoded data removed]",
      "text/plain": [
       "<Figure size 432x288 with 1 Axes>"
      ]
     },
     "metadata": {
      "needs_background": "light"
     },
     "output_type": "display_data"
    }
   ],
   "source": [
    "import matplotlib.pyplot as plt\n",
    "import seaborn as sns\n",
    "\n",
    "# Create a violin plot\n",
    "sns.violinplot(x='Match', y='BOROUGH', data=df)\n",
    "\n",
    "# Customize the plot\n",
    "plt.xlabel('Match')\n",
    "plt.ylabel('BOROUGH')\n",
    "plt.title('Violin Plot of Match vs BOROUGH')\n",
    "\n",
    "# Show the plot\n",
    "plt.show()"
   ]
  },
  {
   "cell_type": "code",
   "execution_count": 12,
   "id": "9d0edaa3",
   "metadata": {},
   "outputs": [
    {
     "data": {
      "image/png": "[encoded data removed]",
      "text/plain": [
       "<Figure size 432x288 with 1 Axes>"
      ]
     },
     "metadata": {
      "needs_background": "light"
     },
     "output_type": "display_data"
    }
   ],
   "source": [
    "# Create a boxplot without the default title\n",
    "ax = df.boxplot(column='GROSS SQUARE FEET', by='Match', showfliers=False, meanline=False)\n",
    "\n",
    "# Remove the default title\n",
    "ax.get_figure().suptitle('')\n",
    "\n",
    "# Add labels\n",
    "plt.xlabel('Match')\n",
    "plt.ylabel('GROSS SQUARE FEET')\n",
    "plt.title('Box Plot of Match vs GROSS SQUARE FEET')\n",
    "\n",
    "# Show the plot\n",
    "plt.show()"
   ]
  },
  {
   "cell_type": "code",
   "execution_count": 13,
   "id": "8baa7e9f",
   "metadata": {},
   "outputs": [
    {
     "data": {
      "image/png": "[encoded data removed]",
      "text/plain": [
       "<Figure size 432x288 with 1 Axes>"
      ]
     },
     "metadata": {
      "needs_background": "light"
     },
     "output_type": "display_data"
    }
   ],
   "source": [
    "# Create a boxplot without the default title\n",
    "ax = df.boxplot(column='YEAR BUILT', by='Match', showfliers=False, meanline=False)\n",
    "\n",
    "# Remove the default title\n",
    "ax.get_figure().suptitle('')\n",
    "\n",
    "# Add labels\n",
    "plt.xlabel('Match')\n",
    "plt.ylabel('YEAR BUILT')\n",
    "plt.title('Box Plot of Match vs YEAR BUILT')\n",
    "\n",
    "# Show the plot\n",
    "plt.show()"
   ]
  },
  {
   "cell_type": "code",
   "execution_count": 14,
   "id": "b4dbfaee",
   "metadata": {},
   "outputs": [
    {
     "data": {
      "image/png": "[encoded data removed]",
      "text/plain": [
       "<Figure size 432x288 with 1 Axes>"
      ]
     },
     "metadata": {
      "needs_background": "light"
     },
     "output_type": "display_data"
    }
   ],
   "source": [
    "# Create a boxplot without the default title\n",
    "ax = df.boxplot(column='SALE PRICE', by='Match', showfliers=False, meanline=False)\n",
    "\n",
    "# Remove the default title\n",
    "ax.get_figure().suptitle('')\n",
    "\n",
    "# Add labels\n",
    "plt.xlabel('Match')\n",
    "plt.ylabel('SALE PRICE')\n",
    "plt.title('Box Plot of Match vs SALE PRICE')\n",
    "\n",
    "# Show the plot\n",
    "plt.show()"
   ]
  },
  {
   "cell_type": "code",
   "execution_count": 17,
   "id": "aa499955",
   "metadata": {},
   "outputs": [],
   "source": [
    "df['Year'] = df['SALE DATE'].dt.year\n",
    "df['Month'] = df['SALE DATE'].dt.month\n",
    "df['Day'] = df['SALE DATE'].dt.day\n",
    "df['Weekday'] = df['SALE DATE'].dt.weekday"
   ]
  },
  {
   "cell_type": "code",
   "execution_count": 18,
   "id": "5d59c764",
   "metadata": {},
   "outputs": [
    {
     "data": {
      "image/png": "[encoded data removed]",
      "text/plain": [
       "<Figure size 432x288 with 1 Axes>"
      ]
     },
     "metadata": {
      "needs_background": "light"
     },
     "output_type": "display_data"
    }
   ],
   "source": [
    "import matplotlib.pyplot as plt\n",
    "\n",
    "# Calculate month frequency\n",
    "month_frequency = df['Month'].value_counts().sort_index()\n",
    "\n",
    "# Create a line chart\n",
    "month_frequency.plot(kind='line', linewidth=2.5, marker='o', color='navy')\n",
    "\n",
    "# Make the chart fancier\n",
    "plt.title('Monthly Frequency Distribution', fontsize=18, fontweight='bold')\n",
    "plt.xlabel('Month', fontsize=14)\n",
    "plt.ylabel('Frequency', fontsize=14)\n",
    "plt.xticks(range(1, 13), ['Jan', 'Feb', 'Mar', 'Apr', 'May', 'Jun', 'Jul', 'Aug', 'Sep', 'Oct', 'Nov', 'Dec'])\n",
    "plt.grid(True, which='major', linestyle='--', linewidth=0.5)\n",
    "plt.tick_params(labelsize=12)\n",
    "plt.tight_layout()\n",
    "\n",
    "# Show the plot\n",
    "plt.show()"
   ]
  },
  {
   "cell_type": "code",
   "execution_count": 19,
   "id": "14eec845",
   "metadata": {},
   "outputs": [
    {
     "data": {
      "image/png": "[encoded data removed]",
      "text/plain": [
       "<Figure size 432x288 with 1 Axes>"
      ]
     },
     "metadata": {
      "needs_background": "light"
     },
     "output_type": "display_data"
    }
   ],
   "source": [
    "# Filter the DataFrame for rows where 'Match' is 1\n",
    "df_match = df[df['Match'] == 1]\n",
    "\n",
    "# Calculate month frequency for when 'Match' is 1\n",
    "month_frequency = df_match['Month'].value_counts().sort_index()\n",
    "\n",
    "# Create a line chart\n",
    "month_frequency.plot(kind='line', linewidth=2.5, marker='o', color='navy')\n",
    "\n",
    "# Make the chart fancier\n",
    "plt.title('Monthly Frequency Distribution for Renovation', fontsize=18, fontweight='bold')\n",
    "plt.xlabel('Month', fontsize=14)\n",
    "plt.ylabel('Frequency', fontsize=14)\n",
    "# Assuming Month is a numeric value representing the month (1-12)\n",
    "plt.xticks(range(1, 13), ['Jan', 'Feb', 'Mar', 'Apr', 'May', 'Jun', 'Jul', 'Aug', 'Sep', 'Oct', 'Nov', 'Dec'])\n",
    "plt.grid(True, which='major', linestyle='--', linewidth=0.5)\n",
    "plt.tick_params(labelsize=12)\n",
    "plt.tight_layout()\n",
    "\n",
    "# Show the plot\n",
    "plt.show()"
   ]
  },
  {
   "cell_type": "code",
   "execution_count": 20,
   "id": "ec108916",
   "metadata": {},
   "outputs": [
    {
     "data": {
      "image/png": "[encoded data removed]",
      "text/plain": [
       "<Figure size 432x288 with 1 Axes>"
      ]
     },
     "metadata": {
      "needs_background": "light"
     },
     "output_type": "display_data"
    }
   ],
   "source": [
    "# Calculate month frequency\n",
    "month_frequency = df['Weekday'].value_counts().sort_index()\n",
    "\n",
    "# Create a line chart\n",
    "month_frequency.plot(kind='line', linewidth=2.5, marker='o', color='navy')\n",
    "\n",
    "# Make the chart fancier\n",
    "plt.title('Weekday Frequency Distribution', fontsize=18, fontweight='bold')\n",
    "plt.xlabel('Weekday', fontsize=14)\n",
    "plt.ylabel('Frequency', fontsize=14)\n",
    "plt.xticks(range(0, 7), ['Mon', 'Tue', 'Wes', 'Thu', 'Fri', 'Sat', 'Sun'])\n",
    "plt.grid(True, which='major', linestyle='--', linewidth=0.5)\n",
    "plt.tick_params(labelsize=12)\n",
    "plt.tight_layout()\n",
    "\n",
    "# Show the plot\n",
    "plt.show()"
   ]
  },
  {
   "cell_type": "code",
   "execution_count": 21,
   "id": "135ee373",
   "metadata": {},
   "outputs": [
    {
     "data": {
      "image/png": "[encoded data removed]",
      "text/plain": [
       "<Figure size 432x288 with 1 Axes>"
      ]
     },
     "metadata": {
      "needs_background": "light"
     },
     "output_type": "display_data"
    }
   ],
   "source": [
    "# Filter the DataFrame for rows where 'Match' is 1\n",
    "df_match = df[df['Match'] == 1]\n",
    "\n",
    "# Calculate month frequency\n",
    "month_frequency = df_match['Weekday'].value_counts().sort_index()\n",
    "\n",
    "# Create a line chart\n",
    "month_frequency.plot(kind='line', linewidth=2.5, marker='o', color='navy')\n",
    "\n",
    "# Make the chart fancier\n",
    "plt.title('Weekday Frequency Distribution of Renovation', fontsize=18, fontweight='bold')\n",
    "plt.xlabel('Weekday', fontsize=14)\n",
    "plt.ylabel('Frequency', fontsize=14)\n",
    "plt.xticks(range(0, 7), ['Mon', 'Tue', 'Wes', 'Thu', 'Fri', 'Sat', 'Sun'])\n",
    "plt.grid(True, which='major', linestyle='--', linewidth=0.5)\n",
    "plt.tick_params(labelsize=12)\n",
    "plt.tight_layout()\n",
    "\n",
    "# Show the plot\n",
    "plt.show()"
   ]
  },
  {
   "cell_type": "code",
   "execution_count": 22,
   "id": "339195d2",
   "metadata": {},
   "outputs": [],
   "source": [
    "from datetime import datetime\n",
    "\n",
    "current_year = datetime.now().year\n",
    "df['Building Age'] = current_year - df['YEAR BUILT']"
   ]
  },
  {
   "cell_type": "code",
   "execution_count": 23,
   "id": "f8f07e8e",
   "metadata": {},
   "outputs": [
    {
     "data": {
      "image/png": "[encoded data removed]",
      "text/plain": [
       "<Figure size 432x288 with 1 Axes>"
      ]
     },
     "metadata": {
      "needs_background": "light"
     },
     "output_type": "display_data"
    }
   ],
   "source": [
    "# Create a boxplot without the default title\n",
    "ax = df.boxplot(column='Building Age', by='Match', showfliers=False, meanline=False)\n",
    "\n",
    "# Remove the default title\n",
    "ax.get_figure().suptitle('')\n",
    "\n",
    "# Add labels\n",
    "plt.xlabel('Match')\n",
    "plt.ylabel('Building Age')\n",
    "plt.title('Box Plot of Match vs Building Age')\n",
    "\n",
    "# Show the plot\n",
    "plt.show()"
   ]
  },
  {
   "cell_type": "code",
   "execution_count": 25,
   "id": "642b6f6e",
   "metadata": {},
   "outputs": [],
   "source": [
    "df['Price per Square Feet'] = (df['SALE PRICE'] / df['GROSS SQUARE FEET'])"
   ]
  },
  {
   "cell_type": "code",
   "execution_count": 26,
   "id": "0746a76d",
   "metadata": {},
   "outputs": [
    {
     "data": {
      "image/png": "[encoded data removed]",
      "text/plain": [
       "<Figure size 432x288 with 1 Axes>"
      ]
     },
     "metadata": {
      "needs_background": "light"
     },
     "output_type": "display_data"
    }
   ],
   "source": [
    "# Create a boxplot without the default title\n",
    "ax = df.boxplot(column='Price per Square Feet', by='Match', showfliers=False, meanline=False)\n",
    "\n",
    "# Remove the default title\n",
    "ax.get_figure().suptitle('')\n",
    "\n",
    "# Add labels\n",
    "plt.xlabel('Match')\n",
    "plt.ylabel('Price per Square Feet')\n",
    "plt.title('Box Plot of Match vs Price per Square Feet')\n",
    "\n",
    "# Show the plot\n",
    "plt.show()"
   ]
  },
  {
   "cell_type": "markdown",
   "id": "bbddddf6",
   "metadata": {},
   "source": [
    "# 2. Distribution"
   ]
  },
  {
   "cell_type": "code",
   "execution_count": 6,
   "id": "f59bf5ff",
   "metadata": {},
   "outputs": [],
   "source": [
    "import numpy as np\n",
    "import matplotlib.pyplot as plt"
   ]
  },
  {
   "cell_type": "code",
   "execution_count": 7,
   "id": "306024fb",
   "metadata": {},
   "outputs": [
    {
     "data": {
      "text/html": [
       "<div>\n",
       "<style scoped>\n",
       "    .dataframe tbody tr th:only-of-type {\n",
       "        vertical-align: middle;\n",
       "    }\n",
       "\n",
       "    .dataframe tbody tr th {\n",
       "        vertical-align: top;\n",
       "    }\n",
       "\n",
       "    .dataframe thead th {\n",
       "        text-align: right;\n",
       "    }\n",
       "</style>\n",
       "<table border=\"1\" class=\"dataframe\">\n",
       "  <thead>\n",
       "    <tr style=\"text-align: right;\">\n",
       "      <th></th>\n",
       "      <th>BOROUGH</th>\n",
       "      <th>ZIP CODE</th>\n",
       "      <th>GROSS SQUARE FEET</th>\n",
       "      <th>YEAR BUILT</th>\n",
       "      <th>SALE PRICE</th>\n",
       "      <th>Latitude</th>\n",
       "      <th>Longitude</th>\n",
       "      <th>Match</th>\n",
       "    </tr>\n",
       "  </thead>\n",
       "  <tbody>\n",
       "    <tr>\n",
       "      <th>count</th>\n",
       "      <td>92208.000000</td>\n",
       "      <td>92208.000000</td>\n",
       "      <td>4.861200e+04</td>\n",
       "      <td>86939.000000</td>\n",
       "      <td>9.220800e+04</td>\n",
       "      <td>90981.000000</td>\n",
       "      <td>90981.000000</td>\n",
       "      <td>92208.000000</td>\n",
       "    </tr>\n",
       "    <tr>\n",
       "      <th>mean</th>\n",
       "      <td>2.934648</td>\n",
       "      <td>10844.646213</td>\n",
       "      <td>5.921191e+03</td>\n",
       "      <td>1953.309079</td>\n",
       "      <td>1.671285e+06</td>\n",
       "      <td>40.709929</td>\n",
       "      <td>-73.932170</td>\n",
       "      <td>0.226770</td>\n",
       "    </tr>\n",
       "    <tr>\n",
       "      <th>std</th>\n",
       "      <td>1.295037</td>\n",
       "      <td>567.595769</td>\n",
       "      <td>3.806339e+04</td>\n",
       "      <td>36.879589</td>\n",
       "      <td>1.288970e+07</td>\n",
       "      <td>0.077896</td>\n",
       "      <td>0.099971</td>\n",
       "      <td>0.419133</td>\n",
       "    </tr>\n",
       "    <tr>\n",
       "      <th>min</th>\n",
       "      <td>1.000000</td>\n",
       "      <td>10001.000000</td>\n",
       "      <td>0.000000e+00</td>\n",
       "      <td>220.000000</td>\n",
       "      <td>0.000000e+00</td>\n",
       "      <td>40.498966</td>\n",
       "      <td>-74.254937</td>\n",
       "      <td>0.000000</td>\n",
       "    </tr>\n",
       "    <tr>\n",
       "      <th>25%</th>\n",
       "      <td>2.000000</td>\n",
       "      <td>10304.000000</td>\n",
       "      <td>1.406000e+03</td>\n",
       "      <td>1925.000000</td>\n",
       "      <td>0.000000e+00</td>\n",
       "      <td>40.655213</td>\n",
       "      <td>-73.985214</td>\n",
       "      <td>0.000000</td>\n",
       "    </tr>\n",
       "    <tr>\n",
       "      <th>50%</th>\n",
       "      <td>3.000000</td>\n",
       "      <td>11209.000000</td>\n",
       "      <td>2.000000e+03</td>\n",
       "      <td>1950.000000</td>\n",
       "      <td>5.920000e+05</td>\n",
       "      <td>40.717173</td>\n",
       "      <td>-73.948423</td>\n",
       "      <td>0.000000</td>\n",
       "    </tr>\n",
       "    <tr>\n",
       "      <th>75%</th>\n",
       "      <td>4.000000</td>\n",
       "      <td>11355.000000</td>\n",
       "      <td>2.888000e+03</td>\n",
       "      <td>1979.000000</td>\n",
       "      <td>1.100000e+06</td>\n",
       "      <td>40.761304</td>\n",
       "      <td>-73.858638</td>\n",
       "      <td>0.000000</td>\n",
       "    </tr>\n",
       "    <tr>\n",
       "      <th>max</th>\n",
       "      <td>5.000000</td>\n",
       "      <td>11697.000000</td>\n",
       "      <td>2.400000e+06</td>\n",
       "      <td>2022.000000</td>\n",
       "      <td>9.310000e+08</td>\n",
       "      <td>40.912869</td>\n",
       "      <td>-73.700913</td>\n",
       "      <td>2.000000</td>\n",
       "    </tr>\n",
       "  </tbody>\n",
       "</table>\n",
       "</div>"
      ],
      "text/plain": [
       "            BOROUGH      ZIP CODE  GROSS SQUARE FEET    YEAR BUILT  \\\n",
       "count  92208.000000  92208.000000       4.861200e+04  86939.000000   \n",
       "mean       2.934648  10844.646213       5.921191e+03   1953.309079   \n",
       "std        1.295037    567.595769       3.806339e+04     36.879589   \n",
       "min        1.000000  10001.000000       0.000000e+00    220.000000   \n",
       "25%        2.000000  10304.000000       1.406000e+03   1925.000000   \n",
       "50%        3.000000  11209.000000       2.000000e+03   1950.000000   \n",
       "75%        4.000000  11355.000000       2.888000e+03   1979.000000   \n",
       "max        5.000000  11697.000000       2.400000e+06   2022.000000   \n",
       "\n",
       "         SALE PRICE      Latitude     Longitude         Match  \n",
       "count  9.220800e+04  90981.000000  90981.000000  92208.000000  \n",
       "mean   1.671285e+06     40.709929    -73.932170      0.226770  \n",
       "std    1.288970e+07      0.077896      0.099971      0.419133  \n",
       "min    0.000000e+00     40.498966    -74.254937      0.000000  \n",
       "25%    0.000000e+00     40.655213    -73.985214      0.000000  \n",
       "50%    5.920000e+05     40.717173    -73.948423      0.000000  \n",
       "75%    1.100000e+06     40.761304    -73.858638      0.000000  \n",
       "max    9.310000e+08     40.912869    -73.700913      2.000000  "
      ]
     },
     "execution_count": 7,
     "metadata": {},
     "output_type": "execute_result"
    }
   ],
   "source": [
    "df.describe()"
   ]
  },
  {
   "cell_type": "markdown",
   "id": "2625ea2a",
   "metadata": {},
   "source": [
    "* GROSS SQUARE FEET, YEAR BUILT and SALE PRICE have outliers."
   ]
  },
  {
   "cell_type": "markdown",
   "id": "b5935ee4",
   "metadata": {},
   "source": [
    "## 2.1 SALE DATE"
   ]
  },
  {
   "cell_type": "code",
   "execution_count": 8,
   "id": "78143960",
   "metadata": {},
   "outputs": [],
   "source": [
    "df['Year'] = df['SALE DATE'].dt.year\n",
    "df['Month'] = df['SALE DATE'].dt.month\n",
    "df['Day'] = df['SALE DATE'].dt.day\n",
    "df['Weekday'] = df['SALE DATE'].dt.weekday "
   ]
  },
  {
   "cell_type": "code",
   "execution_count": 9,
   "id": "3006aa86",
   "metadata": {
    "scrolled": true
   },
   "outputs": [
    {
     "data": {
      "text/html": [
       "<div>\n",
       "<style scoped>\n",
       "    .dataframe tbody tr th:only-of-type {\n",
       "        vertical-align: middle;\n",
       "    }\n",
       "\n",
       "    .dataframe tbody tr th {\n",
       "        vertical-align: top;\n",
       "    }\n",
       "\n",
       "    .dataframe thead th {\n",
       "        text-align: right;\n",
       "    }\n",
       "</style>\n",
       "<table border=\"1\" class=\"dataframe\">\n",
       "  <thead>\n",
       "    <tr style=\"text-align: right;\">\n",
       "      <th></th>\n",
       "      <th>BOROUGH</th>\n",
       "      <th>ADDRESS</th>\n",
       "      <th>ZIP CODE</th>\n",
       "      <th>GROSS SQUARE FEET</th>\n",
       "      <th>YEAR BUILT</th>\n",
       "      <th>SALE PRICE</th>\n",
       "      <th>SALE DATE</th>\n",
       "      <th>Latitude</th>\n",
       "      <th>Longitude</th>\n",
       "      <th>Clean Address</th>\n",
       "      <th>Match</th>\n",
       "      <th>Year</th>\n",
       "      <th>Month</th>\n",
       "      <th>Day</th>\n",
       "      <th>Weekday</th>\n",
       "    </tr>\n",
       "  </thead>\n",
       "  <tbody>\n",
       "    <tr>\n",
       "      <th>0</th>\n",
       "      <td>2</td>\n",
       "      <td>1667 WASHINGTON AVENUE</td>\n",
       "      <td>10457.0</td>\n",
       "      <td>3167.0</td>\n",
       "      <td>1899.0</td>\n",
       "      <td>980000</td>\n",
       "      <td>2022-09-08</td>\n",
       "      <td>40.841270</td>\n",
       "      <td>-73.901313</td>\n",
       "      <td>1667 WASHINGTON AVENUE</td>\n",
       "      <td>0</td>\n",
       "      <td>2022</td>\n",
       "      <td>9</td>\n",
       "      <td>8</td>\n",
       "      <td>3</td>\n",
       "    </tr>\n",
       "    <tr>\n",
       "      <th>1</th>\n",
       "      <td>2</td>\n",
       "      <td>410 EAST 179TH STREET</td>\n",
       "      <td>10457.0</td>\n",
       "      <td>2048.0</td>\n",
       "      <td>1901.0</td>\n",
       "      <td>655000</td>\n",
       "      <td>2022-11-01</td>\n",
       "      <td>40.850353</td>\n",
       "      <td>-73.898824</td>\n",
       "      <td>410 EAST 179TH STREET</td>\n",
       "      <td>0</td>\n",
       "      <td>2022</td>\n",
       "      <td>11</td>\n",
       "      <td>1</td>\n",
       "      <td>1</td>\n",
       "    </tr>\n",
       "    <tr>\n",
       "      <th>2</th>\n",
       "      <td>2</td>\n",
       "      <td>4455 PARK AVENUE</td>\n",
       "      <td>10457.0</td>\n",
       "      <td>1587.0</td>\n",
       "      <td>1899.0</td>\n",
       "      <td>520000</td>\n",
       "      <td>2022-10-26</td>\n",
       "      <td>40.853630</td>\n",
       "      <td>-73.895963</td>\n",
       "      <td>4455 PARK AVENUE</td>\n",
       "      <td>0</td>\n",
       "      <td>2022</td>\n",
       "      <td>10</td>\n",
       "      <td>26</td>\n",
       "      <td>2</td>\n",
       "    </tr>\n",
       "    <tr>\n",
       "      <th>3</th>\n",
       "      <td>2</td>\n",
       "      <td>443 EAST 180 STREET</td>\n",
       "      <td>10457.0</td>\n",
       "      <td>2820.0</td>\n",
       "      <td>1952.0</td>\n",
       "      <td>720000</td>\n",
       "      <td>2022-02-23</td>\n",
       "      <td>40.851764</td>\n",
       "      <td>-73.896429</td>\n",
       "      <td>443 EAST 180 STREET</td>\n",
       "      <td>0</td>\n",
       "      <td>2022</td>\n",
       "      <td>2</td>\n",
       "      <td>23</td>\n",
       "      <td>2</td>\n",
       "    </tr>\n",
       "    <tr>\n",
       "      <th>4</th>\n",
       "      <td>2</td>\n",
       "      <td>2327 WASHINGTON AVE</td>\n",
       "      <td>10458.0</td>\n",
       "      <td>1260.0</td>\n",
       "      <td>1910.0</td>\n",
       "      <td>499999</td>\n",
       "      <td>2022-04-28</td>\n",
       "      <td>40.855949</td>\n",
       "      <td>-73.892532</td>\n",
       "      <td>2327 WASHINGTON AVE</td>\n",
       "      <td>0</td>\n",
       "      <td>2022</td>\n",
       "      <td>4</td>\n",
       "      <td>28</td>\n",
       "      <td>3</td>\n",
       "    </tr>\n",
       "  </tbody>\n",
       "</table>\n",
       "</div>"
      ],
      "text/plain": [
       "   BOROUGH                 ADDRESS  ZIP CODE  GROSS SQUARE FEET  YEAR BUILT  \\\n",
       "0        2  1667 WASHINGTON AVENUE   10457.0             3167.0      1899.0   \n",
       "1        2   410 EAST 179TH STREET   10457.0             2048.0      1901.0   \n",
       "2        2        4455 PARK AVENUE   10457.0             1587.0      1899.0   \n",
       "3        2     443 EAST 180 STREET   10457.0             2820.0      1952.0   \n",
       "4        2     2327 WASHINGTON AVE   10458.0             1260.0      1910.0   \n",
       "\n",
       "   SALE PRICE  SALE DATE   Latitude  Longitude           Clean Address  Match  \\\n",
       "0      980000 2022-09-08  40.841270 -73.901313  1667 WASHINGTON AVENUE      0   \n",
       "1      655000 2022-11-01  40.850353 -73.898824   410 EAST 179TH STREET      0   \n",
       "2      520000 2022-10-26  40.853630 -73.895963        4455 PARK AVENUE      0   \n",
       "3      720000 2022-02-23  40.851764 -73.896429     443 EAST 180 STREET      0   \n",
       "4      499999 2022-04-28  40.855949 -73.892532     2327 WASHINGTON AVE      0   \n",
       "\n",
       "   Year  Month  Day  Weekday  \n",
       "0  2022      9    8        3  \n",
       "1  2022     11    1        1  \n",
       "2  2022     10   26        2  \n",
       "3  2022      2   23        2  \n",
       "4  2022      4   28        3  "
      ]
     },
     "execution_count": 9,
     "metadata": {},
     "output_type": "execute_result"
    }
   ],
   "source": [
    "df.head()"
   ]
  },
  {
   "cell_type": "markdown",
   "id": "c1110337",
   "metadata": {},
   "source": [
    "## 2.2 Add Building Age"
   ]
  },
  {
   "cell_type": "code",
   "execution_count": 10,
   "id": "4574995b",
   "metadata": {},
   "outputs": [
    {
     "data": {
      "text/html": [
       "<div>\n",
       "<style scoped>\n",
       "    .dataframe tbody tr th:only-of-type {\n",
       "        vertical-align: middle;\n",
       "    }\n",
       "\n",
       "    .dataframe tbody tr th {\n",
       "        vertical-align: top;\n",
       "    }\n",
       "\n",
       "    .dataframe thead th {\n",
       "        text-align: right;\n",
       "    }\n",
       "</style>\n",
       "<table border=\"1\" class=\"dataframe\">\n",
       "  <thead>\n",
       "    <tr style=\"text-align: right;\">\n",
       "      <th></th>\n",
       "      <th>BOROUGH</th>\n",
       "      <th>ADDRESS</th>\n",
       "      <th>ZIP CODE</th>\n",
       "      <th>GROSS SQUARE FEET</th>\n",
       "      <th>YEAR BUILT</th>\n",
       "      <th>SALE PRICE</th>\n",
       "      <th>SALE DATE</th>\n",
       "      <th>Latitude</th>\n",
       "      <th>Longitude</th>\n",
       "      <th>Clean Address</th>\n",
       "      <th>Match</th>\n",
       "      <th>Year</th>\n",
       "      <th>Month</th>\n",
       "      <th>Day</th>\n",
       "      <th>Weekday</th>\n",
       "      <th>Building Age</th>\n",
       "    </tr>\n",
       "  </thead>\n",
       "  <tbody>\n",
       "    <tr>\n",
       "      <th>0</th>\n",
       "      <td>2</td>\n",
       "      <td>1667 WASHINGTON AVENUE</td>\n",
       "      <td>10457.0</td>\n",
       "      <td>3167.0</td>\n",
       "      <td>1899.0</td>\n",
       "      <td>980000</td>\n",
       "      <td>2022-09-08</td>\n",
       "      <td>40.841270</td>\n",
       "      <td>-73.901313</td>\n",
       "      <td>1667 WASHINGTON AVENUE</td>\n",
       "      <td>0</td>\n",
       "      <td>2022</td>\n",
       "      <td>9</td>\n",
       "      <td>8</td>\n",
       "      <td>3</td>\n",
       "      <td>125.0</td>\n",
       "    </tr>\n",
       "    <tr>\n",
       "      <th>1</th>\n",
       "      <td>2</td>\n",
       "      <td>410 EAST 179TH STREET</td>\n",
       "      <td>10457.0</td>\n",
       "      <td>2048.0</td>\n",
       "      <td>1901.0</td>\n",
       "      <td>655000</td>\n",
       "      <td>2022-11-01</td>\n",
       "      <td>40.850353</td>\n",
       "      <td>-73.898824</td>\n",
       "      <td>410 EAST 179TH STREET</td>\n",
       "      <td>0</td>\n",
       "      <td>2022</td>\n",
       "      <td>11</td>\n",
       "      <td>1</td>\n",
       "      <td>1</td>\n",
       "      <td>123.0</td>\n",
       "    </tr>\n",
       "    <tr>\n",
       "      <th>2</th>\n",
       "      <td>2</td>\n",
       "      <td>4455 PARK AVENUE</td>\n",
       "      <td>10457.0</td>\n",
       "      <td>1587.0</td>\n",
       "      <td>1899.0</td>\n",
       "      <td>520000</td>\n",
       "      <td>2022-10-26</td>\n",
       "      <td>40.853630</td>\n",
       "      <td>-73.895963</td>\n",
       "      <td>4455 PARK AVENUE</td>\n",
       "      <td>0</td>\n",
       "      <td>2022</td>\n",
       "      <td>10</td>\n",
       "      <td>26</td>\n",
       "      <td>2</td>\n",
       "      <td>125.0</td>\n",
       "    </tr>\n",
       "    <tr>\n",
       "      <th>3</th>\n",
       "      <td>2</td>\n",
       "      <td>443 EAST 180 STREET</td>\n",
       "      <td>10457.0</td>\n",
       "      <td>2820.0</td>\n",
       "      <td>1952.0</td>\n",
       "      <td>720000</td>\n",
       "      <td>2022-02-23</td>\n",
       "      <td>40.851764</td>\n",
       "      <td>-73.896429</td>\n",
       "      <td>443 EAST 180 STREET</td>\n",
       "      <td>0</td>\n",
       "      <td>2022</td>\n",
       "      <td>2</td>\n",
       "      <td>23</td>\n",
       "      <td>2</td>\n",
       "      <td>72.0</td>\n",
       "    </tr>\n",
       "    <tr>\n",
       "      <th>4</th>\n",
       "      <td>2</td>\n",
       "      <td>2327 WASHINGTON AVE</td>\n",
       "      <td>10458.0</td>\n",
       "      <td>1260.0</td>\n",
       "      <td>1910.0</td>\n",
       "      <td>499999</td>\n",
       "      <td>2022-04-28</td>\n",
       "      <td>40.855949</td>\n",
       "      <td>-73.892532</td>\n",
       "      <td>2327 WASHINGTON AVE</td>\n",
       "      <td>0</td>\n",
       "      <td>2022</td>\n",
       "      <td>4</td>\n",
       "      <td>28</td>\n",
       "      <td>3</td>\n",
       "      <td>114.0</td>\n",
       "    </tr>\n",
       "  </tbody>\n",
       "</table>\n",
       "</div>"
      ],
      "text/plain": [
       "   BOROUGH                 ADDRESS  ZIP CODE  GROSS SQUARE FEET  YEAR BUILT  \\\n",
       "0        2  1667 WASHINGTON AVENUE   10457.0             3167.0      1899.0   \n",
       "1        2   410 EAST 179TH STREET   10457.0             2048.0      1901.0   \n",
       "2        2        4455 PARK AVENUE   10457.0             1587.0      1899.0   \n",
       "3        2     443 EAST 180 STREET   10457.0             2820.0      1952.0   \n",
       "4        2     2327 WASHINGTON AVE   10458.0             1260.0      1910.0   \n",
       "\n",
       "   SALE PRICE  SALE DATE   Latitude  Longitude           Clean Address  Match  \\\n",
       "0      980000 2022-09-08  40.841270 -73.901313  1667 WASHINGTON AVENUE      0   \n",
       "1      655000 2022-11-01  40.850353 -73.898824   410 EAST 179TH STREET      0   \n",
       "2      520000 2022-10-26  40.853630 -73.895963        4455 PARK AVENUE      0   \n",
       "3      720000 2022-02-23  40.851764 -73.896429     443 EAST 180 STREET      0   \n",
       "4      499999 2022-04-28  40.855949 -73.892532     2327 WASHINGTON AVE      0   \n",
       "\n",
       "   Year  Month  Day  Weekday  Building Age  \n",
       "0  2022      9    8        3         125.0  \n",
       "1  2022     11    1        1         123.0  \n",
       "2  2022     10   26        2         125.0  \n",
       "3  2022      2   23        2          72.0  \n",
       "4  2022      4   28        3         114.0  "
      ]
     },
     "execution_count": 10,
     "metadata": {},
     "output_type": "execute_result"
    }
   ],
   "source": [
    "from datetime import datetime\n",
    "\n",
    "current_year = datetime.now().year\n",
    "df['Building Age'] = current_year - df['YEAR BUILT']\n",
    "df.head()"
   ]
  },
  {
   "cell_type": "markdown",
   "id": "f331ea9c",
   "metadata": {},
   "source": [
    "# 3. Correlation "
   ]
  },
  {
   "cell_type": "code",
   "execution_count": 11,
   "id": "b7ae0bf8",
   "metadata": {},
   "outputs": [
    {
     "data": {
      "image/png": "[encoded data removed]",
      "text/plain": [
       "<Figure size 576x432 with 2 Axes>"
      ]
     },
     "metadata": {
      "needs_background": "light"
     },
     "output_type": "display_data"
    }
   ],
   "source": [
    "import seaborn as sns\n",
    "\n",
    "plt.figure(figsize=(8, 6)) \n",
    "sns.heatmap(df.corr(), annot=True, cmap='coolwarm', fmt=\".2f\")\n",
    "plt.show()"
   ]
  },
  {
   "cell_type": "markdown",
   "id": "c6216ee0",
   "metadata": {},
   "source": [
    "# 4. Missing Values"
   ]
  },
  {
   "cell_type": "markdown",
   "id": "cfb3b9b2",
   "metadata": {},
   "source": [
    "## 4.1 SALE PRICE"
   ]
  },
  {
   "cell_type": "code",
   "execution_count": 12,
   "id": "40991a66",
   "metadata": {},
   "outputs": [
    {
     "data": {
      "text/plain": [
       "0"
      ]
     },
     "execution_count": 12,
     "metadata": {},
     "output_type": "execute_result"
    }
   ],
   "source": [
    "df['SALE PRICE'].isnull().sum()"
   ]
  },
  {
   "cell_type": "code",
   "execution_count": 13,
   "id": "6599c546",
   "metadata": {
    "scrolled": true
   },
   "outputs": [
    {
     "data": {
      "text/plain": [
       "0"
      ]
     },
     "execution_count": 13,
     "metadata": {},
     "output_type": "execute_result"
    }
   ],
   "source": [
    "df['SALE PRICE'].min()"
   ]
  },
  {
   "cell_type": "code",
   "execution_count": 14,
   "id": "6358527d",
   "metadata": {},
   "outputs": [
    {
     "data": {
      "text/plain": [
       "931000000"
      ]
     },
     "execution_count": 14,
     "metadata": {},
     "output_type": "execute_result"
    }
   ],
   "source": [
    "df['SALE PRICE'].max()"
   ]
  },
  {
   "cell_type": "code",
   "execution_count": 15,
   "id": "6aa6bc33",
   "metadata": {},
   "outputs": [
    {
     "name": "stderr",
     "output_type": "stream",
     "text": [
      "/Users/lindawang/opt/anaconda3/lib/python3.9/site-packages/seaborn/_decorators.py:36: FutureWarning: Pass the following variable as a keyword arg: x. From version 0.12, the only valid positional argument will be `data`, and passing other arguments without an explicit keyword will result in an error or misinterpretation.\n",
      "  warnings.warn(\n"
     ]
    },
    {
     "data": {
      "image/png": "[encoded data removed]",
      "text/plain": [
       "<Figure size 432x288 with 1 Axes>"
      ]
     },
     "metadata": {
      "needs_background": "light"
     },
     "output_type": "display_data"
    }
   ],
   "source": [
    "sns.boxplot(df['SALE PRICE'])\n",
    "plt.title('Box Plot of Sale Price')\n",
    "plt.xlabel('Sale Price')\n",
    "plt.show()"
   ]
  },
  {
   "cell_type": "markdown",
   "id": "8f4b5012",
   "metadata": {},
   "source": [
    "* Consider the price smaller than 1000 and greater than 400000000 as outliers. "
   ]
  },
  {
   "cell_type": "code",
   "execution_count": 16,
   "id": "f211f6c9",
   "metadata": {},
   "outputs": [
    {
     "data": {
      "text/plain": [
       "92208"
      ]
     },
     "execution_count": 16,
     "metadata": {},
     "output_type": "execute_result"
    }
   ],
   "source": [
    "df['SALE PRICE'].count()"
   ]
  },
  {
   "cell_type": "code",
   "execution_count": 17,
   "id": "315df4c6",
   "metadata": {},
   "outputs": [],
   "source": [
    "outliers = (df['SALE PRICE'] < 1000) | (df['SALE PRICE'] > 400000000)\n",
    "df_no_outliers = df[~outliers]"
   ]
  },
  {
   "cell_type": "markdown",
   "id": "c5c31e54",
   "metadata": {},
   "source": [
    "* Impute using the median values of SALE PRICE by ZIP CODE."
   ]
  },
  {
   "cell_type": "code",
   "execution_count": 18,
   "id": "46b7ea96",
   "metadata": {},
   "outputs": [],
   "source": [
    "medians_by_zip = df_no_outliers.groupby('ZIP CODE')['SALE PRICE'].median().reset_index()\n",
    "medians_by_zip.columns = ['ZIP CODE', 'Median_Sale_Price']"
   ]
  },
  {
   "cell_type": "code",
   "execution_count": 19,
   "id": "fd52922c",
   "metadata": {},
   "outputs": [],
   "source": [
    "df = pd.merge(df, medians_by_zip, on='ZIP CODE', how='left')"
   ]
  },
  {
   "cell_type": "code",
   "execution_count": 20,
   "id": "b24ad763",
   "metadata": {},
   "outputs": [],
   "source": [
    "df.loc[outliers, 'SALE PRICE'] = df.loc[outliers, 'Median_Sale_Price']"
   ]
  },
  {
   "cell_type": "code",
   "execution_count": 21,
   "id": "c446eae8",
   "metadata": {},
   "outputs": [],
   "source": [
    "df = df.drop(['Median_Sale_Price'], axis=1)"
   ]
  },
  {
   "cell_type": "code",
   "execution_count": 22,
   "id": "e261ae0f",
   "metadata": {},
   "outputs": [
    {
     "data": {
      "text/plain": [
       "92196"
      ]
     },
     "execution_count": 22,
     "metadata": {},
     "output_type": "execute_result"
    }
   ],
   "source": [
    "df['SALE PRICE'].count()"
   ]
  },
  {
   "cell_type": "markdown",
   "id": "5bd996e6",
   "metadata": {},
   "source": [
    "## 4.2 YEAR BUILT and Building Age"
   ]
  },
  {
   "cell_type": "code",
   "execution_count": 23,
   "id": "56aefa9d",
   "metadata": {},
   "outputs": [],
   "source": [
    "Q1 = df['YEAR BUILT'].quantile(0.25)\n",
    "Q3 = df['YEAR BUILT'].quantile(0.75)\n",
    "IQR = Q3 - Q1\n",
    "\n",
    "# Define lower and upper bounds for considering values as outliers\n",
    "lower_bound = Q1 - 1.5 * IQR\n",
    "upper_bound = Q3 + 1.5 * IQR\n",
    "\n",
    "null_values = df['YEAR BUILT'].isnull()\n",
    "outliers = (df['YEAR BUILT'] < lower_bound) | (df['YEAR BUILT'] > upper_bound)\n",
    "\n",
    "most_frequent_value = df['YEAR BUILT'].mode()[0]\n",
    "df.loc[null_values, 'YEAR BUILT'] = most_frequent_value\n",
    "df.loc[outliers, 'YEAR BUILT'] = most_frequent_value"
   ]
  },
  {
   "cell_type": "code",
   "execution_count": 24,
   "id": "96b308e8",
   "metadata": {
    "scrolled": true
   },
   "outputs": [
    {
     "data": {
      "text/plain": [
       "0"
      ]
     },
     "execution_count": 24,
     "metadata": {},
     "output_type": "execute_result"
    }
   ],
   "source": [
    "df['Building Age'] = current_year - df['YEAR BUILT']\n",
    "df['Building Age'].isnull().sum()"
   ]
  },
  {
   "cell_type": "markdown",
   "id": "f45b3a0c",
   "metadata": {},
   "source": [
    "## 4.3 GROSS SQUARE FEET"
   ]
  },
  {
   "cell_type": "code",
   "execution_count": 25,
   "id": "43ac1c38",
   "metadata": {},
   "outputs": [
    {
     "data": {
      "text/plain": [
       "0.0"
      ]
     },
     "execution_count": 25,
     "metadata": {},
     "output_type": "execute_result"
    }
   ],
   "source": [
    "df['GROSS SQUARE FEET'].min()"
   ]
  },
  {
   "cell_type": "code",
   "execution_count": 26,
   "id": "3e136a4d",
   "metadata": {
    "scrolled": true
   },
   "outputs": [
    {
     "data": {
      "text/plain": [
       "2400000.0"
      ]
     },
     "execution_count": 26,
     "metadata": {},
     "output_type": "execute_result"
    }
   ],
   "source": [
    "df['GROSS SQUARE FEET'].max()"
   ]
  },
  {
   "cell_type": "code",
   "execution_count": 27,
   "id": "dc8be287",
   "metadata": {},
   "outputs": [
    {
     "name": "stderr",
     "output_type": "stream",
     "text": [
      "/Users/lindawang/opt/anaconda3/lib/python3.9/site-packages/seaborn/_decorators.py:36: FutureWarning: Pass the following variable as a keyword arg: x. From version 0.12, the only valid positional argument will be `data`, and passing other arguments without an explicit keyword will result in an error or misinterpretation.\n",
      "  warnings.warn(\n"
     ]
    },
    {
     "data": {
      "image/png": "[encoded data removed]",
      "text/plain": [
       "<Figure size 432x288 with 1 Axes>"
      ]
     },
     "metadata": {
      "needs_background": "light"
     },
     "output_type": "display_data"
    }
   ],
   "source": [
    "sns.boxplot(df['GROSS SQUARE FEET'])\n",
    "plt.title('Box Plot of Gross Square Feet')\n",
    "plt.xlabel('Gross Square Feet')\n",
    "plt.show()"
   ]
  },
  {
   "cell_type": "code",
   "execution_count": 28,
   "id": "64822bc6",
   "metadata": {
    "scrolled": true
   },
   "outputs": [
    {
     "data": {
      "text/plain": [
       "1087"
      ]
     },
     "execution_count": 28,
     "metadata": {},
     "output_type": "execute_result"
    }
   ],
   "source": [
    "outliers = (df['GROSS SQUARE FEET'] < 10) | (df['GROSS SQUARE FEET'] > 1000000)\n",
    "outliers.sum()"
   ]
  },
  {
   "cell_type": "code",
   "execution_count": 29,
   "id": "eb7066ee",
   "metadata": {},
   "outputs": [],
   "source": [
    "df_no_outliers = df[~outliers]"
   ]
  },
  {
   "cell_type": "markdown",
   "id": "553f16f5",
   "metadata": {},
   "source": [
    "* Try using different models and pick the one that works best."
   ]
  },
  {
   "cell_type": "code",
   "execution_count": 30,
   "id": "d18a1cdc",
   "metadata": {},
   "outputs": [
    {
     "name": "stderr",
     "output_type": "stream",
     "text": [
      "/var/folders/rv/bklh4q_d2157rwx2l15fwmk40000gn/T/ipykernel_91904/882628347.py:7: UserWarning: Boolean Series key will be reindexed to match DataFrame index.\n",
      "  df_nona_no_outliers = df_nona[~outliers]\n"
     ]
    }
   ],
   "source": [
    "from sklearn.model_selection import train_test_split\n",
    "from sklearn.linear_model import LinearRegression\n",
    "from sklearn.metrics import mean_absolute_error, mean_squared_error, r2_score\n",
    "\n",
    "# Handling missing values in features\n",
    "df_nona = df.dropna(subset=['SALE PRICE', 'BOROUGH','Building Age'])\n",
    "df_nona_no_outliers = df_nona[~outliers]\n",
    "\n",
    "# Preparing the data\n",
    "X = df_nona_no_outliers[['SALE PRICE', 'BOROUGH','Building Age']]\n",
    "y = df_nona_no_outliers['GROSS SQUARE FEET']\n",
    "\n",
    "# Resetting the index of X and y\n",
    "X.reset_index(drop=True, inplace=True)\n",
    "y.reset_index(drop=True, inplace=True)\n",
    "\n",
    "# Split the data where 'GROSS SQUARE FEET' is not null\n",
    "X_train, X_test, y_train, y_test = train_test_split(X[y.notna()], y[y.notna()], test_size=0.2, random_state=42)"
   ]
  },
  {
   "cell_type": "code",
   "execution_count": 31,
   "id": "7bbb2271",
   "metadata": {},
   "outputs": [
    {
     "name": "stdout",
     "output_type": "stream",
     "text": [
      "train MAE: 8.36e+03\n",
      "train MSE: 9.56e+08\n",
      "train R2: 0.109\n",
      "-------------------\n",
      "test MAE: 8.34e+03\n",
      "test MSE: 1.01e+09\n",
      "test R2: 0.101\n"
     ]
    }
   ],
   "source": [
    "# Train a linear regression model\n",
    "model = LinearRegression()\n",
    "model.fit(X_train, y_train)\n",
    "\n",
    "# Predict on the training set\n",
    "y_train_pred = model.predict(X_train)\n",
    "\n",
    "# Predict on the testing set\n",
    "y_test_pred = model.predict(X_test)\n",
    "\n",
    "# Evaluate the model\n",
    "print('train MAE: {0:.2e}'.format(mean_absolute_error(y_train, y_train_pred)))\n",
    "print('train MSE: {0:.2e}'.format(mean_squared_error(y_train, y_train_pred)))\n",
    "print('train R2: {0:.3f}'.format(r2_score(y_train, y_train_pred)))\n",
    "print('-------------------')\n",
    "print('test MAE: {0:.2e}'.format(mean_absolute_error(y_test, y_test_pred)))\n",
    "print('test MSE: {0:.2e}'.format(mean_squared_error(y_test, y_test_pred)))\n",
    "print('test R2: {0:.3f}'.format(r2_score(y_test, y_test_pred)))"
   ]
  },
  {
   "cell_type": "code",
   "execution_count": 32,
   "id": "9e33d11e",
   "metadata": {},
   "outputs": [
    {
     "name": "stdout",
     "output_type": "stream",
     "text": [
      "train MAE: 1.25e+03\n",
      "train MSE: 6.58e+07\n",
      "train R2: 0.939\n",
      "-------------------\n",
      "test MAE: 2.69e+03\n",
      "test MSE: 4.11e+08\n",
      "test R2: 0.633\n"
     ]
    }
   ],
   "source": [
    "from sklearn.ensemble import RandomForestRegressor\n",
    "\n",
    "rf_model = RandomForestRegressor(random_state=42)\n",
    "rf_model.fit(X_train, y_train)\n",
    "\n",
    "# Predict on the training set\n",
    "y_train_pred = rf_model.predict(X_train)\n",
    "\n",
    "# Predict on the testing set\n",
    "y_test_pred = rf_model.predict(X_test)\n",
    "\n",
    "# Evaluate the model\n",
    "print('train MAE: {0:.2e}'.format(mean_absolute_error(y_train, y_train_pred)))\n",
    "print('train MSE: {0:.2e}'.format(mean_squared_error(y_train, y_train_pred)))\n",
    "print('train R2: {0:.3f}'.format(r2_score(y_train, y_train_pred)))\n",
    "print('-------------------')\n",
    "print('test MAE: {0:.2e}'.format(mean_absolute_error(y_test, y_test_pred)))\n",
    "print('test MSE: {0:.2e}'.format(mean_squared_error(y_test, y_test_pred)))\n",
    "print('test R2: {0:.3f}'.format(r2_score(y_test, y_test_pred)))"
   ]
  },
  {
   "cell_type": "code",
   "execution_count": 33,
   "id": "13bc3f2d",
   "metadata": {},
   "outputs": [
    {
     "name": "stdout",
     "output_type": "stream",
     "text": [
      "train MAE: 1.81e+03\n",
      "train MSE: 9.13e+07\n",
      "train R2: 0.915\n",
      "-------------------\n",
      "test MAE: 2.88e+03\n",
      "test MSE: 4.25e+08\n",
      "test R2: 0.620\n"
     ]
    }
   ],
   "source": [
    "from xgboost import XGBRegressor\n",
    "\n",
    "xgb_model = XGBRegressor(random_state=42)\n",
    "xgb_model.fit(X_train, y_train)\n",
    "\n",
    "# Predict on the training set\n",
    "y_train_pred = xgb_model.predict(X_train)\n",
    "\n",
    "# Predict on the testing set\n",
    "y_test_pred = xgb_model.predict(X_test)\n",
    "\n",
    "# Evaluate the model\n",
    "print('train MAE: {0:.2e}'.format(mean_absolute_error(y_train, y_train_pred)))\n",
    "print('train MSE: {0:.2e}'.format(mean_squared_error(y_train, y_train_pred)))\n",
    "print('train R2: {0:.3f}'.format(r2_score(y_train, y_train_pred)))\n",
    "print('-------------------')\n",
    "print('test MAE: {0:.2e}'.format(mean_absolute_error(y_test, y_test_pred)))\n",
    "print('test MSE: {0:.2e}'.format(mean_squared_error(y_test, y_test_pred)))\n",
    "print('test R2: {0:.3f}'.format(r2_score(y_test, y_test_pred)))\n"
   ]
  },
  {
   "cell_type": "markdown",
   "id": "533c7291",
   "metadata": {},
   "source": [
    "* Tune Random Forest."
   ]
  },
  {
   "cell_type": "code",
   "execution_count": 34,
   "id": "2f273175",
   "metadata": {},
   "outputs": [],
   "source": [
    "from sklearn.model_selection import KFold\n",
    "from sklearn.model_selection import GridSearchCV\n",
    "from sklearn.metrics import make_scorer\n",
    "\n",
    "param_grid = {\n",
    "              'max_depth': [3, 6, 9, 20, 50, 100], #default is None, which means infinity\n",
    "              'min_samples_leaf': [1, 3, 5, 10, 20],\n",
    "              'min_samples_split': [2, 3, 5, 8]                \n",
    "             }\n",
    "\n",
    "rf_model = RandomForestRegressor(random_state=42)\n",
    "grid_search = GridSearchCV(estimator=rf_model, param_grid=param_grid, cv=5, scoring='neg_mean_squared_error')\n",
    "grid_search.fit(X_train, y_train)\n",
    "\n",
    "best_params = grid_search.best_params_\n",
    "best_rf_model = grid_search.best_estimator_"
   ]
  },
  {
   "cell_type": "code",
   "execution_count": 35,
   "id": "efd3f9cb",
   "metadata": {},
   "outputs": [
    {
     "name": "stdout",
     "output_type": "stream",
     "text": [
      "train MAE: 2.02e+03\n",
      "train MSE: 1.78e+08\n",
      "train R2: 0.834\n",
      "-------------------\n",
      "test MAE: 2.77e+03\n",
      "test MSE: 3.76e+08\n",
      "test R2: 0.664\n"
     ]
    }
   ],
   "source": [
    "# Predict on the training set\n",
    "y_train_pred = best_rf_model.predict(X_train)\n",
    "\n",
    "# Predict on the testing set\n",
    "y_test_pred = best_rf_model.predict(X_test)\n",
    "\n",
    "# Evaluate the model\n",
    "print('train MAE: {0:.2e}'.format(mean_absolute_error(y_train, y_train_pred)))\n",
    "print('train MSE: {0:.2e}'.format(mean_squared_error(y_train, y_train_pred)))\n",
    "print('train R2: {0:.3f}'.format(r2_score(y_train, y_train_pred)))\n",
    "print('-------------------')\n",
    "print('test MAE: {0:.2e}'.format(mean_absolute_error(y_test, y_test_pred)))\n",
    "print('test MSE: {0:.2e}'.format(mean_squared_error(y_test, y_test_pred)))\n",
    "print('test R2: {0:.3f}'.format(r2_score(y_test, y_test_pred)))"
   ]
  },
  {
   "cell_type": "markdown",
   "id": "717b59b7",
   "metadata": {},
   "source": [
    "* Finally we choose Random Forest to impute the data."
   ]
  },
  {
   "cell_type": "code",
   "execution_count": 36,
   "id": "0868dce8",
   "metadata": {},
   "outputs": [
    {
     "data": {
      "text/plain": [
       "12"
      ]
     },
     "execution_count": 36,
     "metadata": {},
     "output_type": "execute_result"
    }
   ],
   "source": [
    "df['SALE PRICE'].isnull().sum()"
   ]
  },
  {
   "cell_type": "code",
   "execution_count": 37,
   "id": "00f786b4",
   "metadata": {},
   "outputs": [],
   "source": [
    "df = df.dropna(subset=['SALE PRICE'])"
   ]
  },
  {
   "cell_type": "code",
   "execution_count": 38,
   "id": "b00a8d65",
   "metadata": {},
   "outputs": [],
   "source": [
    "X_missing = df[df['GROSS SQUARE FEET'].isnull()]\n",
    "\n",
    "X_missing = X_missing[['SALE PRICE', 'BOROUGH', 'Building Age']]"
   ]
  },
  {
   "cell_type": "code",
   "execution_count": 39,
   "id": "602c8cca",
   "metadata": {},
   "outputs": [],
   "source": [
    "predicted_values = best_rf_model.predict(X_missing)\n",
    "\n",
    "# Update the DataFrame with imputed values\n",
    "df.loc[df['GROSS SQUARE FEET'].isnull(), 'GROSS SQUARE FEET'] = predicted_values"
   ]
  },
  {
   "cell_type": "code",
   "execution_count": 40,
   "id": "f4549fd8",
   "metadata": {
    "scrolled": true
   },
   "outputs": [
    {
     "data": {
      "text/plain": [
       "0"
      ]
     },
     "execution_count": 40,
     "metadata": {},
     "output_type": "execute_result"
    }
   ],
   "source": [
    "df['GROSS SQUARE FEET'].isnull().sum()"
   ]
  },
  {
   "cell_type": "code",
   "execution_count": 41,
   "id": "96004cc6",
   "metadata": {},
   "outputs": [],
   "source": [
    "df = df[(df['GROSS SQUARE FEET'] >= 10) & (df['GROSS SQUARE FEET'] <= 1000000)]"
   ]
  },
  {
   "cell_type": "code",
   "execution_count": 42,
   "id": "c4ff4702",
   "metadata": {},
   "outputs": [
    {
     "name": "stdout",
     "output_type": "stream",
     "text": [
      "<class 'pandas.core.frame.DataFrame'>\n",
      "Int64Index: 91109 entries, 0 to 92207\n",
      "Data columns (total 16 columns):\n",
      " #   Column             Non-Null Count  Dtype         \n",
      "---  ------             --------------  -----         \n",
      " 0   BOROUGH            91109 non-null  int64         \n",
      " 1   ADDRESS            91109 non-null  object        \n",
      " 2   ZIP CODE           91109 non-null  float64       \n",
      " 3   GROSS SQUARE FEET  91109 non-null  float64       \n",
      " 4   YEAR BUILT         91109 non-null  float64       \n",
      " 5   SALE PRICE         91109 non-null  float64       \n",
      " 6   SALE DATE          91109 non-null  datetime64[ns]\n",
      " 7   Latitude           89901 non-null  float64       \n",
      " 8   Longitude          89901 non-null  float64       \n",
      " 9   Clean Address      91109 non-null  object        \n",
      " 10  Match              91109 non-null  int64         \n",
      " 11  Year               91109 non-null  int64         \n",
      " 12  Month              91109 non-null  int64         \n",
      " 13  Day                91109 non-null  int64         \n",
      " 14  Weekday            91109 non-null  int64         \n",
      " 15  Building Age       91109 non-null  float64       \n",
      "dtypes: datetime64[ns](1), float64(7), int64(6), object(2)\n",
      "memory usage: 11.8+ MB\n"
     ]
    }
   ],
   "source": [
    "df.info()"
   ]
  },
  {
   "cell_type": "markdown",
   "id": "d9e44332",
   "metadata": {},
   "source": [
    "## 4.3 Latitude and Longitude"
   ]
  },
  {
   "cell_type": "markdown",
   "id": "3477120a",
   "metadata": {},
   "source": [
    "* Use ZIP CODE to impute Latitude and Longitude. Calculate the mean Latitude and Longitude for each ZIP CODE and then use these averages to fill in missing values."
   ]
  },
  {
   "cell_type": "code",
   "execution_count": 43,
   "id": "65a685f8",
   "metadata": {},
   "outputs": [],
   "source": [
    "# Calculate mean Latitude and Longitude for each ZIP code\n",
    "mean_coords = df.groupby('ZIP CODE')[['Latitude', 'Longitude']].mean()\n",
    "\n",
    "# Impute missing values\n",
    "for zip_code in mean_coords.index:\n",
    "    df.loc[(df['ZIP CODE'] == zip_code) & (df['Latitude'].isna()), 'Latitude'] = mean_coords.loc[zip_code, 'Latitude']\n",
    "    df.loc[(df['ZIP CODE'] == zip_code) & (df['Longitude'].isna()), 'Longitude'] = mean_coords.loc[zip_code, 'Longitude']"
   ]
  },
  {
   "cell_type": "code",
   "execution_count": 44,
   "id": "92a0b07e",
   "metadata": {
    "scrolled": true
   },
   "outputs": [
    {
     "data": {
      "text/plain": [
       "1"
      ]
     },
     "execution_count": 44,
     "metadata": {},
     "output_type": "execute_result"
    }
   ],
   "source": [
    "df['Latitude'].isnull().sum()"
   ]
  },
  {
   "cell_type": "code",
   "execution_count": 45,
   "id": "e50c93f8",
   "metadata": {
    "scrolled": true
   },
   "outputs": [
    {
     "data": {
      "text/plain": [
       "1"
      ]
     },
     "execution_count": 45,
     "metadata": {},
     "output_type": "execute_result"
    }
   ],
   "source": [
    "df['Longitude'].isnull().sum()"
   ]
  },
  {
   "cell_type": "code",
   "execution_count": 46,
   "id": "1355f293",
   "metadata": {},
   "outputs": [],
   "source": [
    "df = df.dropna(subset=['Longitude','Latitude'])"
   ]
  },
  {
   "cell_type": "markdown",
   "id": "3d01787c",
   "metadata": {},
   "source": [
    "# 5. Feature Engineering"
   ]
  },
  {
   "cell_type": "markdown",
   "id": "2c811cd2",
   "metadata": {},
   "source": [
    "## 5.1 Building Age"
   ]
  },
  {
   "cell_type": "markdown",
   "id": "640c724d",
   "metadata": {},
   "source": [
    "## 5.2 Price per Square Feet"
   ]
  },
  {
   "cell_type": "code",
   "execution_count": 47,
   "id": "c1834d3f",
   "metadata": {},
   "outputs": [],
   "source": [
    "df['Price per Square Feet'] = (df['SALE PRICE'] / df['GROSS SQUARE FEET']).astype(int)"
   ]
  },
  {
   "cell_type": "code",
   "execution_count": 48,
   "id": "487510ed",
   "metadata": {
    "scrolled": true
   },
   "outputs": [
    {
     "data": {
      "text/html": [
       "<div>\n",
       "<style scoped>\n",
       "    .dataframe tbody tr th:only-of-type {\n",
       "        vertical-align: middle;\n",
       "    }\n",
       "\n",
       "    .dataframe tbody tr th {\n",
       "        vertical-align: top;\n",
       "    }\n",
       "\n",
       "    .dataframe thead th {\n",
       "        text-align: right;\n",
       "    }\n",
       "</style>\n",
       "<table border=\"1\" class=\"dataframe\">\n",
       "  <thead>\n",
       "    <tr style=\"text-align: right;\">\n",
       "      <th></th>\n",
       "      <th>BOROUGH</th>\n",
       "      <th>ADDRESS</th>\n",
       "      <th>ZIP CODE</th>\n",
       "      <th>GROSS SQUARE FEET</th>\n",
       "      <th>YEAR BUILT</th>\n",
       "      <th>SALE PRICE</th>\n",
       "      <th>SALE DATE</th>\n",
       "      <th>Latitude</th>\n",
       "      <th>Longitude</th>\n",
       "      <th>Clean Address</th>\n",
       "      <th>Match</th>\n",
       "      <th>Year</th>\n",
       "      <th>Month</th>\n",
       "      <th>Day</th>\n",
       "      <th>Weekday</th>\n",
       "      <th>Building Age</th>\n",
       "      <th>Price per Square Feet</th>\n",
       "    </tr>\n",
       "  </thead>\n",
       "  <tbody>\n",
       "    <tr>\n",
       "      <th>0</th>\n",
       "      <td>2</td>\n",
       "      <td>1667 WASHINGTON AVENUE</td>\n",
       "      <td>10457.0</td>\n",
       "      <td>3167.0</td>\n",
       "      <td>1899.0</td>\n",
       "      <td>980000.0</td>\n",
       "      <td>2022-09-08</td>\n",
       "      <td>40.841270</td>\n",
       "      <td>-73.901313</td>\n",
       "      <td>1667 WASHINGTON AVENUE</td>\n",
       "      <td>0</td>\n",
       "      <td>2022</td>\n",
       "      <td>9</td>\n",
       "      <td>8</td>\n",
       "      <td>3</td>\n",
       "      <td>125.0</td>\n",
       "      <td>309</td>\n",
       "    </tr>\n",
       "    <tr>\n",
       "      <th>1</th>\n",
       "      <td>2</td>\n",
       "      <td>410 EAST 179TH STREET</td>\n",
       "      <td>10457.0</td>\n",
       "      <td>2048.0</td>\n",
       "      <td>1901.0</td>\n",
       "      <td>655000.0</td>\n",
       "      <td>2022-11-01</td>\n",
       "      <td>40.850353</td>\n",
       "      <td>-73.898824</td>\n",
       "      <td>410 EAST 179TH STREET</td>\n",
       "      <td>0</td>\n",
       "      <td>2022</td>\n",
       "      <td>11</td>\n",
       "      <td>1</td>\n",
       "      <td>1</td>\n",
       "      <td>123.0</td>\n",
       "      <td>319</td>\n",
       "    </tr>\n",
       "    <tr>\n",
       "      <th>2</th>\n",
       "      <td>2</td>\n",
       "      <td>4455 PARK AVENUE</td>\n",
       "      <td>10457.0</td>\n",
       "      <td>1587.0</td>\n",
       "      <td>1899.0</td>\n",
       "      <td>520000.0</td>\n",
       "      <td>2022-10-26</td>\n",
       "      <td>40.853630</td>\n",
       "      <td>-73.895963</td>\n",
       "      <td>4455 PARK AVENUE</td>\n",
       "      <td>0</td>\n",
       "      <td>2022</td>\n",
       "      <td>10</td>\n",
       "      <td>26</td>\n",
       "      <td>2</td>\n",
       "      <td>125.0</td>\n",
       "      <td>327</td>\n",
       "    </tr>\n",
       "    <tr>\n",
       "      <th>3</th>\n",
       "      <td>2</td>\n",
       "      <td>443 EAST 180 STREET</td>\n",
       "      <td>10457.0</td>\n",
       "      <td>2820.0</td>\n",
       "      <td>1952.0</td>\n",
       "      <td>720000.0</td>\n",
       "      <td>2022-02-23</td>\n",
       "      <td>40.851764</td>\n",
       "      <td>-73.896429</td>\n",
       "      <td>443 EAST 180 STREET</td>\n",
       "      <td>0</td>\n",
       "      <td>2022</td>\n",
       "      <td>2</td>\n",
       "      <td>23</td>\n",
       "      <td>2</td>\n",
       "      <td>72.0</td>\n",
       "      <td>255</td>\n",
       "    </tr>\n",
       "    <tr>\n",
       "      <th>4</th>\n",
       "      <td>2</td>\n",
       "      <td>2327 WASHINGTON AVE</td>\n",
       "      <td>10458.0</td>\n",
       "      <td>1260.0</td>\n",
       "      <td>1910.0</td>\n",
       "      <td>499999.0</td>\n",
       "      <td>2022-04-28</td>\n",
       "      <td>40.855949</td>\n",
       "      <td>-73.892532</td>\n",
       "      <td>2327 WASHINGTON AVE</td>\n",
       "      <td>0</td>\n",
       "      <td>2022</td>\n",
       "      <td>4</td>\n",
       "      <td>28</td>\n",
       "      <td>3</td>\n",
       "      <td>114.0</td>\n",
       "      <td>396</td>\n",
       "    </tr>\n",
       "  </tbody>\n",
       "</table>\n",
       "</div>"
      ],
      "text/plain": [
       "   BOROUGH                 ADDRESS  ZIP CODE  GROSS SQUARE FEET  YEAR BUILT  \\\n",
       "0        2  1667 WASHINGTON AVENUE   10457.0             3167.0      1899.0   \n",
       "1        2   410 EAST 179TH STREET   10457.0             2048.0      1901.0   \n",
       "2        2        4455 PARK AVENUE   10457.0             1587.0      1899.0   \n",
       "3        2     443 EAST 180 STREET   10457.0             2820.0      1952.0   \n",
       "4        2     2327 WASHINGTON AVE   10458.0             1260.0      1910.0   \n",
       "\n",
       "   SALE PRICE  SALE DATE   Latitude  Longitude           Clean Address  Match  \\\n",
       "0    980000.0 2022-09-08  40.841270 -73.901313  1667 WASHINGTON AVENUE      0   \n",
       "1    655000.0 2022-11-01  40.850353 -73.898824   410 EAST 179TH STREET      0   \n",
       "2    520000.0 2022-10-26  40.853630 -73.895963        4455 PARK AVENUE      0   \n",
       "3    720000.0 2022-02-23  40.851764 -73.896429     443 EAST 180 STREET      0   \n",
       "4    499999.0 2022-04-28  40.855949 -73.892532     2327 WASHINGTON AVE      0   \n",
       "\n",
       "   Year  Month  Day  Weekday  Building Age  Price per Square Feet  \n",
       "0  2022      9    8        3         125.0                    309  \n",
       "1  2022     11    1        1         123.0                    319  \n",
       "2  2022     10   26        2         125.0                    327  \n",
       "3  2022      2   23        2          72.0                    255  \n",
       "4  2022      4   28        3         114.0                    396  "
      ]
     },
     "execution_count": 48,
     "metadata": {},
     "output_type": "execute_result"
    }
   ],
   "source": [
    "df.head()"
   ]
  },
  {
   "cell_type": "markdown",
   "id": "80282eb0",
   "metadata": {},
   "source": [
    "## 5.4 Distance"
   ]
  },
  {
   "cell_type": "code",
   "execution_count": 49,
   "id": "d9ec0ce7",
   "metadata": {},
   "outputs": [],
   "source": [
    "from math import radians, sin, cos, sqrt, atan2\n",
    "\n",
    "# Function to calculate distance using Haversine formula\n",
    "def haversine(lat1, lon1, lat2, lon2):\n",
    "    # Radius of the Earth in kilometers\n",
    "    R = 6371.0\n",
    "\n",
    "    # Convert latitude and longitude from degrees to radians\n",
    "    lat1, lon1, lat2, lon2 = map(radians, [lat1, lon1, lat2, lon2])\n",
    "\n",
    "    # Calculate the differences in coordinates\n",
    "    dlat = lat2 - lat1\n",
    "    dlon = lon2 - lon1\n",
    "\n",
    "    # Haversine formula\n",
    "    a = sin(dlat / 2)**2 + cos(lat1) * cos(lat2) * sin(dlon / 2)**2\n",
    "    c = 2 * atan2(sqrt(a), sqrt(1 - a))\n",
    "\n",
    "    # Calculate the distance\n",
    "    distance = R * c\n",
    "\n",
    "    return distance\n",
    "\n",
    "# Coordinates for reference point\n",
    "ref_point = (40.76469, -73.83336)\n",
    "\n",
    "# Calculate distance and create a new 'Distance' column\n",
    "df['Distance'] = df.apply(lambda row: haversine(row['Latitude'], row['Longitude'], ref_point[0], ref_point[1]), axis=1)"
   ]
  },
  {
   "cell_type": "code",
   "execution_count": 50,
   "id": "5a3fefad",
   "metadata": {
    "scrolled": true
   },
   "outputs": [
    {
     "data": {
      "text/html": [
       "<div>\n",
       "<style scoped>\n",
       "    .dataframe tbody tr th:only-of-type {\n",
       "        vertical-align: middle;\n",
       "    }\n",
       "\n",
       "    .dataframe tbody tr th {\n",
       "        vertical-align: top;\n",
       "    }\n",
       "\n",
       "    .dataframe thead th {\n",
       "        text-align: right;\n",
       "    }\n",
       "</style>\n",
       "<table border=\"1\" class=\"dataframe\">\n",
       "  <thead>\n",
       "    <tr style=\"text-align: right;\">\n",
       "      <th></th>\n",
       "      <th>BOROUGH</th>\n",
       "      <th>ADDRESS</th>\n",
       "      <th>ZIP CODE</th>\n",
       "      <th>GROSS SQUARE FEET</th>\n",
       "      <th>YEAR BUILT</th>\n",
       "      <th>SALE PRICE</th>\n",
       "      <th>SALE DATE</th>\n",
       "      <th>Latitude</th>\n",
       "      <th>Longitude</th>\n",
       "      <th>Clean Address</th>\n",
       "      <th>Match</th>\n",
       "      <th>Year</th>\n",
       "      <th>Month</th>\n",
       "      <th>Day</th>\n",
       "      <th>Weekday</th>\n",
       "      <th>Building Age</th>\n",
       "      <th>Price per Square Feet</th>\n",
       "      <th>Distance</th>\n",
       "    </tr>\n",
       "  </thead>\n",
       "  <tbody>\n",
       "    <tr>\n",
       "      <th>0</th>\n",
       "      <td>2</td>\n",
       "      <td>1667 WASHINGTON AVENUE</td>\n",
       "      <td>10457.0</td>\n",
       "      <td>3167.0</td>\n",
       "      <td>1899.0</td>\n",
       "      <td>980000.0</td>\n",
       "      <td>2022-09-08</td>\n",
       "      <td>40.841270</td>\n",
       "      <td>-73.901313</td>\n",
       "      <td>1667 WASHINGTON AVENUE</td>\n",
       "      <td>0</td>\n",
       "      <td>2022</td>\n",
       "      <td>9</td>\n",
       "      <td>8</td>\n",
       "      <td>3</td>\n",
       "      <td>125.0</td>\n",
       "      <td>309</td>\n",
       "      <td>10.257899</td>\n",
       "    </tr>\n",
       "    <tr>\n",
       "      <th>1</th>\n",
       "      <td>2</td>\n",
       "      <td>410 EAST 179TH STREET</td>\n",
       "      <td>10457.0</td>\n",
       "      <td>2048.0</td>\n",
       "      <td>1901.0</td>\n",
       "      <td>655000.0</td>\n",
       "      <td>2022-11-01</td>\n",
       "      <td>40.850353</td>\n",
       "      <td>-73.898824</td>\n",
       "      <td>410 EAST 179TH STREET</td>\n",
       "      <td>0</td>\n",
       "      <td>2022</td>\n",
       "      <td>11</td>\n",
       "      <td>1</td>\n",
       "      <td>1</td>\n",
       "      <td>123.0</td>\n",
       "      <td>319</td>\n",
       "      <td>11.004018</td>\n",
       "    </tr>\n",
       "    <tr>\n",
       "      <th>2</th>\n",
       "      <td>2</td>\n",
       "      <td>4455 PARK AVENUE</td>\n",
       "      <td>10457.0</td>\n",
       "      <td>1587.0</td>\n",
       "      <td>1899.0</td>\n",
       "      <td>520000.0</td>\n",
       "      <td>2022-10-26</td>\n",
       "      <td>40.853630</td>\n",
       "      <td>-73.895963</td>\n",
       "      <td>4455 PARK AVENUE</td>\n",
       "      <td>0</td>\n",
       "      <td>2022</td>\n",
       "      <td>10</td>\n",
       "      <td>26</td>\n",
       "      <td>2</td>\n",
       "      <td>125.0</td>\n",
       "      <td>327</td>\n",
       "      <td>11.205630</td>\n",
       "    </tr>\n",
       "    <tr>\n",
       "      <th>3</th>\n",
       "      <td>2</td>\n",
       "      <td>443 EAST 180 STREET</td>\n",
       "      <td>10457.0</td>\n",
       "      <td>2820.0</td>\n",
       "      <td>1952.0</td>\n",
       "      <td>720000.0</td>\n",
       "      <td>2022-02-23</td>\n",
       "      <td>40.851764</td>\n",
       "      <td>-73.896429</td>\n",
       "      <td>443 EAST 180 STREET</td>\n",
       "      <td>0</td>\n",
       "      <td>2022</td>\n",
       "      <td>2</td>\n",
       "      <td>23</td>\n",
       "      <td>2</td>\n",
       "      <td>72.0</td>\n",
       "      <td>255</td>\n",
       "      <td>11.041775</td>\n",
       "    </tr>\n",
       "    <tr>\n",
       "      <th>4</th>\n",
       "      <td>2</td>\n",
       "      <td>2327 WASHINGTON AVE</td>\n",
       "      <td>10458.0</td>\n",
       "      <td>1260.0</td>\n",
       "      <td>1910.0</td>\n",
       "      <td>499999.0</td>\n",
       "      <td>2022-04-28</td>\n",
       "      <td>40.855949</td>\n",
       "      <td>-73.892532</td>\n",
       "      <td>2327 WASHINGTON AVE</td>\n",
       "      <td>0</td>\n",
       "      <td>2022</td>\n",
       "      <td>4</td>\n",
       "      <td>28</td>\n",
       "      <td>3</td>\n",
       "      <td>114.0</td>\n",
       "      <td>396</td>\n",
       "      <td>11.303655</td>\n",
       "    </tr>\n",
       "  </tbody>\n",
       "</table>\n",
       "</div>"
      ],
      "text/plain": [
       "   BOROUGH                 ADDRESS  ZIP CODE  GROSS SQUARE FEET  YEAR BUILT  \\\n",
       "0        2  1667 WASHINGTON AVENUE   10457.0             3167.0      1899.0   \n",
       "1        2   410 EAST 179TH STREET   10457.0             2048.0      1901.0   \n",
       "2        2        4455 PARK AVENUE   10457.0             1587.0      1899.0   \n",
       "3        2     443 EAST 180 STREET   10457.0             2820.0      1952.0   \n",
       "4        2     2327 WASHINGTON AVE   10458.0             1260.0      1910.0   \n",
       "\n",
       "   SALE PRICE  SALE DATE   Latitude  Longitude           Clean Address  Match  \\\n",
       "0    980000.0 2022-09-08  40.841270 -73.901313  1667 WASHINGTON AVENUE      0   \n",
       "1    655000.0 2022-11-01  40.850353 -73.898824   410 EAST 179TH STREET      0   \n",
       "2    520000.0 2022-10-26  40.853630 -73.895963        4455 PARK AVENUE      0   \n",
       "3    720000.0 2022-02-23  40.851764 -73.896429     443 EAST 180 STREET      0   \n",
       "4    499999.0 2022-04-28  40.855949 -73.892532     2327 WASHINGTON AVE      0   \n",
       "\n",
       "   Year  Month  Day  Weekday  Building Age  Price per Square Feet   Distance  \n",
       "0  2022      9    8        3         125.0                    309  10.257899  \n",
       "1  2022     11    1        1         123.0                    319  11.004018  \n",
       "2  2022     10   26        2         125.0                    327  11.205630  \n",
       "3  2022      2   23        2          72.0                    255  11.041775  \n",
       "4  2022      4   28        3         114.0                    396  11.303655  "
      ]
     },
     "execution_count": 50,
     "metadata": {},
     "output_type": "execute_result"
    }
   ],
   "source": [
    "df.head()"
   ]
  },
  {
   "cell_type": "code",
   "execution_count": 51,
   "id": "3acceb5c",
   "metadata": {},
   "outputs": [
    {
     "name": "stdout",
     "output_type": "stream",
     "text": [
      "<class 'pandas.core.frame.DataFrame'>\n",
      "Int64Index: 91108 entries, 0 to 92207\n",
      "Data columns (total 18 columns):\n",
      " #   Column                 Non-Null Count  Dtype         \n",
      "---  ------                 --------------  -----         \n",
      " 0   BOROUGH                91108 non-null  int64         \n",
      " 1   ADDRESS                91108 non-null  object        \n",
      " 2   ZIP CODE               91108 non-null  float64       \n",
      " 3   GROSS SQUARE FEET      91108 non-null  float64       \n",
      " 4   YEAR BUILT             91108 non-null  float64       \n",
      " 5   SALE PRICE             91108 non-null  float64       \n",
      " 6   SALE DATE              91108 non-null  datetime64[ns]\n",
      " 7   Latitude               91108 non-null  float64       \n",
      " 8   Longitude              91108 non-null  float64       \n",
      " 9   Clean Address          91108 non-null  object        \n",
      " 10  Match                  91108 non-null  int64         \n",
      " 11  Year                   91108 non-null  int64         \n",
      " 12  Month                  91108 non-null  int64         \n",
      " 13  Day                    91108 non-null  int64         \n",
      " 14  Weekday                91108 non-null  int64         \n",
      " 15  Building Age           91108 non-null  float64       \n",
      " 16  Price per Square Feet  91108 non-null  int64         \n",
      " 17  Distance               91108 non-null  float64       \n",
      "dtypes: datetime64[ns](1), float64(8), int64(7), object(2)\n",
      "memory usage: 13.2+ MB\n"
     ]
    }
   ],
   "source": [
    "df.info()"
   ]
  },
  {
   "cell_type": "code",
   "execution_count": 52,
   "id": "96158fa5",
   "metadata": {},
   "outputs": [],
   "source": [
    "df.to_csv('../csv/clean_data.csv', index=False)"
   ]
  },
  {
   "cell_type": "code",
   "execution_count": null,
   "id": "b2f1031e",
   "metadata": {},
   "outputs": [],
   "source": []
  }
 ],
 "metadata": {
  "kernelspec": {
   "display_name": "Python 3 (ipykernel)",
   "language": "python",
   "name": "python3"
  },
  "language_info": {
   "codemirror_mode": {
    "name": "ipython",
    "version": 3
   },
   "file_extension": ".py",
   "mimetype": "text/x-python",
   "name": "python",
   "nbconvert_exporter": "python",
   "pygments_lexer": "ipython3",
   "version": "3.9.7"
  }
 },
 "nbformat": 4,
 "nbformat_minor": 5
}
